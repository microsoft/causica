{
 "cells": [
  {
   "cell_type": "markdown",
   "id": "1e6f5686",
   "metadata": {},
   "source": [
    "# Deep End-to-end Causal Inference: Demo Notebook\n",
    "\n",
    "This notebook provides a showcase of the features provided by our open source code for Deep End-to-end Causal Inference (DECI).\n",
    "\n",
    " - We begin with a simple two node example, showing how DECI can orient an edge correctly when non-Gaussian noise is present, and how DECI can then be used for treatment effect estimation\n",
    " - We show how different graph constraints can be incorporated into DECI\n",
    " - We showcase DECI on a larger graph example\n",
    " \n",
    "### Dataset availability\n",
    "To use the notebook, the CSuite datasets need to be available. Ensure that you have run the CSuite data generation script in `causica/data_generation/csuite/simulate.py` before attempting to load datasets.\n",
    "\n",
    "For Microsoft internal users, the datasets will be automatically downloaded from storage."
   ]
  },
  {
   "cell_type": "code",
   "execution_count": 1,
   "id": "aee90314",
   "metadata": {},
   "outputs": [],
   "source": [
    "import os\n",
    "# Use this to set the notebook's working directory to the top-level directory, where ./data is located\n",
    "os.chdir(\"../../..\")"
   ]
  },
  {
   "cell_type": "code",
   "execution_count": 2,
   "id": "d0f4bcfe",
   "metadata": {},
   "outputs": [],
   "source": [
    "from open_source.causica.experiment.steps.step_func import load_data\n",
    "from open_source.causica.models.deci.deci import DECI\n",
    "import seaborn as sns\n",
    "import pandas as pd\n",
    "import networkx as nx\n",
    "import matplotlib\n",
    "import matplotlib.pyplot as plt\n",
    "\n",
    "import torch\n",
    "\n",
    "device = \"cuda\" if torch.cuda.is_available() else \"cpu\"\n",
    "\n",
    "def plot_true_graph(dataset):\n",
    "    true_graph = nx.convert_matrix.from_numpy_matrix(dataset.get_adjacency_data_matrix(), create_using=nx.DiGraph)\n",
    "    nx.draw_networkx(true_graph, arrows=True, with_labels=True)"
   ]
  },
  {
   "cell_type": "code",
   "execution_count": 3,
   "id": "9ab2482a",
   "metadata": {},
   "outputs": [],
   "source": [
    "%matplotlib inline"
   ]
  },
  {
   "cell_type": "code",
   "execution_count": 4,
   "id": "8cc10b3f",
   "metadata": {},
   "outputs": [],
   "source": [
    "dataset_config = {'dataset_format': 'causal_csv', 'use_predefined_dataset': True, 'test_fraction': 0.1, \n",
    "                  'val_fraction': 0.1, 'random_seed': 0, 'negative_sample': False}\n",
    "model_config = {'tau_gumbel': 0.25, 'lambda_dag': 100.0, 'lambda_sparse': 5.0, 'spline_bins': 8, \n",
    "                'var_dist_A_mode': 'enco', 'mode_adjacency': 'learn', \n",
    "                'norm_layers': True, 'res_connection': True, 'base_distribution_type': 'spline'}\n",
    "# To speed up training you can try:\n",
    "#  increasing learning_rate\n",
    "#  increasing batch_size (reduces noise when using higher learning rate)\n",
    "#  decreasing max_steps_auglag (go as low as you can and still get a DAG)\n",
    "#  decreasing max_auglag_inner_epochs\n",
    "training_params = {'learning_rate': 0.05, 'batch_size': 256, 'stardardize_data_mean': False, \n",
    "                   'stardardize_data_std': False, 'rho': 1.0, 'safety_rho': 10000000000000.0, \n",
    "                   'alpha': 0.0, 'safety_alpha': 10000000000000.0, 'tol_dag': 1e-04, 'progress_rate': 0.65, \n",
    "                   'max_steps_auglag': 5, 'max_auglag_inner_epochs': 2000, 'max_p_train_dropout': 0.6, \n",
    "                   'reconstruction_loss_factor': 1.0, 'anneal_entropy': 'noanneal'}"
   ]
  },
  {
   "cell_type": "markdown",
   "id": "c2c6c891",
   "metadata": {},
   "source": [
    "## Simplest example of end-to-end causal inference"
   ]
  },
  {
   "cell_type": "code",
   "execution_count": 5,
   "id": "c09cd6f8",
   "metadata": {},
   "outputs": [],
   "source": [
    "try:\n",
    "    from evaluation_pipeline.aml_run_context import setup_run_context_in_aml\n",
    "    run_context = setup_run_context_in_aml()\n",
    "except ImportError:\n",
    "    from causica.experiment.run_context import RunContext\n",
    "    run_context = RunContext()"
   ]
  },
  {
   "cell_type": "markdown",
   "id": "c65dd891",
   "metadata": {},
   "source": [
    "To load the dataset, ensure that you have run the CSuite data generation script in `causica/data_generation/csuite/simulate.py`, ensure that the CSuite datasets have been created under `./data`, and ensure that the notebook's working directory has been set correctly."
   ]
  },
  {
   "cell_type": "code",
   "execution_count": 6,
   "id": "34415175",
   "metadata": {},
   "outputs": [
    {
     "name": "stderr",
     "output_type": "stream",
     "text": [
      "/home/npawlowski/code/causica_main/open_source/causica/datasets/csv_dataset_loader.py:132: UserWarning: Validation data file not found: ./data/csuite_linexp/val.csv.\n",
      "  warnings.warn(f\"Validation data file not found: {val_data_path}.\", UserWarning)\n"
     ]
    },
    {
     "name": "stdout",
     "output_type": "stream",
     "text": [
      "Minimum value of variable Column 0 inferred as -0.9999413490295409. This can be changed manually in the dataset's variables.json file\n",
      "Max value of variable Column 0 inferred as 8.235523223876953. This can be changed manually in the dataset's variables.json file\n",
      "Variable Column 0 inferred to be a queriable variable. This can be changed manually in the dataset's variables.json file by updating the \"query\" field.\n",
      "Variable Column 0 inferred as not an active learning target variable. This can be changed manually in the dataset's variables.json file by updating the \"target\" field.\n",
      "Variable Column 0 inferred as an always observed target variable. This can be changed manually in the dataset's variables.json file by updating the \"always_observed\" field.\n",
      "Minimum value of variable Column 1 inferred as -1.3496897220611572. This can be changed manually in the dataset's variables.json file\n",
      "Max value of variable Column 1 inferred as 6.333921432495117. This can be changed manually in the dataset's variables.json file\n",
      "Variable Column 1 inferred to be a queriable variable. This can be changed manually in the dataset's variables.json file by updating the \"query\" field.\n",
      "Variable Column 1 inferred as not an active learning target variable. This can be changed manually in the dataset's variables.json file by updating the \"target\" field.\n",
      "Variable Column 1 inferred as an always observed target variable. This can be changed manually in the dataset's variables.json file by updating the \"always_observed\" field.\n"
     ]
    }
   ],
   "source": [
    "dataset = load_data(\"csuite_linexp\", \"./data\", 0, dataset_config, model_config, False, run_context.download_dataset)"
   ]
  },
  {
   "cell_type": "code",
   "execution_count": 7,
   "id": "9b42ca20",
   "metadata": {},
   "outputs": [],
   "source": [
    "train_data = pd.DataFrame(dataset._train_data, columns=[\"A\", \"B\"])"
   ]
  },
  {
   "cell_type": "code",
   "execution_count": 8,
   "id": "4c798b58",
   "metadata": {},
   "outputs": [
    {
     "data": {
      "text/html": [
       "<div>\n",
       "<style scoped>\n",
       "    .dataframe tbody tr th:only-of-type {\n",
       "        vertical-align: middle;\n",
       "    }\n",
       "\n",
       "    .dataframe tbody tr th {\n",
       "        vertical-align: top;\n",
       "    }\n",
       "\n",
       "    .dataframe thead th {\n",
       "        text-align: right;\n",
       "    }\n",
       "</style>\n",
       "<table border=\"1\" class=\"dataframe\">\n",
       "  <thead>\n",
       "    <tr style=\"text-align: right;\">\n",
       "      <th></th>\n",
       "      <th>A</th>\n",
       "      <th>B</th>\n",
       "    </tr>\n",
       "  </thead>\n",
       "  <tbody>\n",
       "    <tr>\n",
       "      <th>0</th>\n",
       "      <td>0.038877</td>\n",
       "      <td>-0.683264</td>\n",
       "    </tr>\n",
       "    <tr>\n",
       "      <th>1</th>\n",
       "      <td>1.223592</td>\n",
       "      <td>1.241109</td>\n",
       "    </tr>\n",
       "    <tr>\n",
       "      <th>2</th>\n",
       "      <td>0.392550</td>\n",
       "      <td>-0.443539</td>\n",
       "    </tr>\n",
       "    <tr>\n",
       "      <th>3</th>\n",
       "      <td>-0.821275</td>\n",
       "      <td>-0.852504</td>\n",
       "    </tr>\n",
       "    <tr>\n",
       "      <th>4</th>\n",
       "      <td>0.029229</td>\n",
       "      <td>-0.709607</td>\n",
       "    </tr>\n",
       "  </tbody>\n",
       "</table>\n",
       "</div>"
      ],
      "text/plain": [
       "          A         B\n",
       "0  0.038877 -0.683264\n",
       "1  1.223592  1.241109\n",
       "2  0.392550 -0.443539\n",
       "3 -0.821275 -0.852504\n",
       "4  0.029229 -0.709607"
      ]
     },
     "execution_count": 8,
     "metadata": {},
     "output_type": "execute_result"
    }
   ],
   "source": [
    "train_data.head()"
   ]
  },
  {
   "cell_type": "code",
   "execution_count": 9,
   "id": "9f212f27",
   "metadata": {},
   "outputs": [
    {
     "data": {
      "text/plain": [
       "<AxesSubplot:xlabel='A', ylabel='B'>"
      ]
     },
     "execution_count": 9,
     "metadata": {},
     "output_type": "execute_result"
    },
    {
     "data": {
      "image/png": "[encoded data removed]",
      "text/plain": [
       "<Figure size 432x288 with 1 Axes>"
      ]
     },
     "metadata": {
      "needs_background": "light"
     },
     "output_type": "display_data"
    }
   ],
   "source": [
    "%matplotlib inline\n",
    "sns.scatterplot(x=train_data[\"A\"], y=train_data[\"B\"])"
   ]
  },
  {
   "cell_type": "markdown",
   "id": "87be9ad5",
   "metadata": {},
   "source": [
    "Initially, it is unclear what the causal relationship between A and B is."
   ]
  },
  {
   "cell_type": "code",
   "execution_count": 10,
   "id": "663a399e",
   "metadata": {},
   "outputs": [
    {
     "data": {
      "image/png": "[encoded data removed]",
      "text/plain": [
       "<Figure size 432x288 with 1 Axes>"
      ]
     },
     "metadata": {},
     "output_type": "display_data"
    }
   ],
   "source": [
    "df = pd.DataFrame({'from': ['A'], 'to': ['B']})\n",
    "G = nx.from_pandas_edgelist(df, 'from', 'to')\n",
    "nx.draw_networkx(G, arrows=False, with_labels=True)"
   ]
  },
  {
   "cell_type": "code",
   "execution_count": 11,
   "id": "901b6dd8",
   "metadata": {},
   "outputs": [],
   "source": [
    "model = DECI(\"mymodel\", dataset.variables, \"mysavedir\", device, **model_config) #change cuda to cpu if GPU is not available"
   ]
  },
  {
   "cell_type": "code",
   "execution_count": 12,
   "id": "7038cd91",
   "metadata": {
    "scrolled": true
   },
   "outputs": [
    {
     "name": "stderr",
     "output_type": "stream",
     "text": [
      "/home/npawlowski/code/causica_main/open_source/causica/preprocessing/data_processor.py:400: UserWarning: Data too low for continous variables [0 1]\n",
      "  warnings.warn(\n",
      "/home/npawlowski/code/causica_main/open_source/causica/preprocessing/data_processor.py:405: UserWarning: Data too high for continous variables [1]\n",
      "  warnings.warn(\n",
      "/home/npawlowski/code/causica_main/open_source/causica/utils/helper_functions.py:48: UserWarning: The given NumPy array is not writable, and PyTorch does not support non-writable tensors. This means writing to this tensor will result in undefined behavior. You may want to copy the array to protect its data or make it writable before converting it to a tensor. This type of warning will be suppressed for the rest of this program. (Triggered internally at  /opt/conda/conda-bld/pytorch_1646755934348/work/torch/csrc/utils/tensor_numpy.cpp:178.)\n",
      "  return tuple(torch.as_tensor(array, dtype=dtype, device=device) for array in arrays)\n"
     ]
    },
    {
     "name": "stdout",
     "output_type": "stream",
     "text": [
      "Auglag Step: 0\n",
      "LR: 0.05\n",
      "Inner Step: 500, loss: 2.97, log p(x|A): -2.38, dag: 0.04996343,                 log p(A)_sp: -0.00, log q(A): -0.000, H filled: 0.000, rec: 0.586\n",
      "Reducing lr to 0.00500\n",
      "Inner Step: 1000, loss: 2.86, log p(x|A): -2.31, dag: 0.05430808,                 log p(A)_sp: -0.00, log q(A): -0.000, H filled: 0.000, rec: 0.551\n",
      "Inner Step: 1500, loss: 2.79, log p(x|A): -2.26, dag: 0.06589380,                 log p(A)_sp: -0.00, log q(A): -0.000, H filled: 0.000, rec: 0.535\n",
      "Inner Step: 2000, loss: 2.75, log p(x|A): -2.22, dag: 0.06897126,                 log p(A)_sp: -0.00, log q(A): -0.000, H filled: 0.000, rec: 0.527\n",
      "Best model found at innner step 1804, with Loss 2.49\n",
      "Dag penalty after inner: 0.0689712625\n",
      "Time taken for this step 24.319637775421143\n",
      "Unrounded adj matrix:\n",
      "[[[0.         0.53614908]\n",
      "  [0.13231814 0.        ]]]\n",
      "Number of edges in adj matrix (unrounded) 0.6684672236442566, (rounded) 1.0.\n",
      "Not done inner optimization.\n",
      "Dag penalty: 0.068971262454987\n",
      "Rho: 0.00, alpha: 1.00\n",
      "Auglag Step: 1\n",
      "LR: 0.005000000000000001\n",
      "Inner Step: 500, loss: 2.57, log p(x|A): -2.07, dag: 0.06951434,                 log p(A)_sp: -0.00, log q(A): -0.000, H filled: 0.000, rec: 0.503\n",
      "Inner Step: 1000, loss: 2.53, log p(x|A): -2.03, dag: 0.05973889,                 log p(A)_sp: -0.00, log q(A): -0.000, H filled: 0.000, rec: 0.501\n",
      "Reducing lr to 0.00050\n",
      "Inner Step: 1500, loss: 2.50, log p(x|A): -2.00, dag: 0.05358397,                 log p(A)_sp: -0.00, log q(A): -0.000, H filled: 0.000, rec: 0.502\n",
      "Reducing lr to 0.00005\n",
      "Inner Step: 2000, loss: 2.48, log p(x|A): -1.98, dag: 0.04833419,                 log p(A)_sp: -0.00, log q(A): -0.000, H filled: 0.000, rec: 0.499\n",
      "Best model found at innner step 868, with Loss 2.28\n",
      "Dag penalty after inner: 0.0483341918\n",
      "Time taken for this step 29.457499504089355\n",
      "Unrounded adj matrix:\n",
      "[[[0.         0.92130923]\n",
      "  [0.02208126 0.        ]]]\n",
      "Number of edges in adj matrix (unrounded) 0.9433904886245728, (rounded) 1.0.\n",
      "Updating alpha.\n",
      "Dag penalty: 0.048334191799164\n",
      "Rho: 0.05, alpha: 1.00\n",
      "Auglag Step: 2\n",
      "LR: 5.0000000000000016e-05\n",
      "Inner Step: 500, loss: 2.42, log p(x|A): -1.92, dag: 0.01086162,                 log p(A)_sp: -0.00, log q(A): -0.000, H filled: 0.000, rec: 0.504\n",
      "Reducing lr to 0.00001\n",
      "Inner Step: 1000, loss: 2.43, log p(x|A): -1.93, dag: 0.01737859,                 log p(A)_sp: -0.00, log q(A): -0.000, H filled: 0.000, rec: 0.500\n",
      "Reducing lr to 0.00000\n",
      "Inner Step: 1500, loss: 2.43, log p(x|A): -1.93, dag: 0.02027502,                 log p(A)_sp: -0.00, log q(A): -0.000, H filled: 0.000, rec: 0.502\n",
      "Reducing lr to 0.00000\n",
      "Exiting at innner step 1948.\n",
      "Best model found at innner step 948, with Loss 2.30\n",
      "Dag penalty after inner: 0.0217455354\n",
      "Time taken for this step 26.02060079574585\n",
      "Unrounded adj matrix:\n",
      "[[[0.         0.9218955 ]\n",
      "  [0.02194262 0.        ]]]\n",
      "Number of edges in adj matrix (unrounded) 0.9438381195068359, (rounded) 1.0.\n",
      "Updating alpha.\n",
      "Dag penalty: 0.021745535382500\n",
      "Rho: 0.07, alpha: 1.00\n",
      "Auglag Step: 3\n",
      "LR: 5.0000000000000024e-08\n",
      "Inner Step: 500, loss: 2.45, log p(x|A): -1.94, dag: 0.02389556,                 log p(A)_sp: -0.00, log q(A): -0.000, H filled: 0.000, rec: 0.506\n",
      "Reducing lr to 0.00000\n",
      "Inner Step: 1000, loss: 2.43, log p(x|A): -1.93, dag: 0.02063707,                 log p(A)_sp: -0.00, log q(A): -0.000, H filled: 0.000, rec: 0.503\n",
      "Inner Step: 1500, loss: 2.43, log p(x|A): -1.93, dag: 0.01882680,                 log p(A)_sp: -0.00, log q(A): -0.000, H filled: 0.000, rec: 0.499\n",
      "Reducing lr to 0.00000\n",
      "Inner Step: 2000, loss: 2.43, log p(x|A): -1.93, dag: 0.02009399,                 log p(A)_sp: -0.00, log q(A): -0.000, H filled: 0.000, rec: 0.499\n",
      "Best model found at innner step 1304, with Loss 2.32\n",
      "Dag penalty after inner: 0.0200939898\n",
      "Time taken for this step 26.33340859413147\n",
      "Unrounded adj matrix:\n",
      "[[[0.         0.9218955 ]\n",
      "  [0.02194268 0.        ]]]\n",
      "Number of edges in adj matrix (unrounded) 0.9438381791114807, (rounded) 1.0.\n",
      "Updating rho, dag penalty prev:  0.0217455354\n",
      "Dag penalty: 0.020093989849091\n",
      "Rho: 0.07, alpha: 10.00\n",
      "Auglag Step: 4\n",
      "LR: 5.000000000000002e-10\n",
      "Inner Step: 500, loss: 2.42, log p(x|A): -1.93, dag: 0.02824020,                 log p(A)_sp: -0.00, log q(A): -0.000, H filled: 0.000, rec: 0.494\n",
      "Reducing lr to 0.00000\n",
      "Inner Step: 1000, loss: 2.42, log p(x|A): -1.93, dag: 0.03149869,                 log p(A)_sp: -0.00, log q(A): -0.000, H filled: 0.000, rec: 0.497\n",
      "Inner Step: 1500, loss: 2.43, log p(x|A): -1.93, dag: 0.02896431,                 log p(A)_sp: -0.00, log q(A): -0.000, H filled: 0.000, rec: 0.496\n",
      "Reducing lr to 0.00000\n",
      "Inner Step: 2000, loss: 2.43, log p(x|A): -1.93, dag: 0.02606788,                 log p(A)_sp: -0.00, log q(A): -0.000, H filled: 0.000, rec: 0.496\n",
      "Best model found at innner step 1096, with Loss 2.27\n",
      "Dag penalty after inner: 0.0260678787\n",
      "Time taken for this step 25.12523603439331\n",
      "Unrounded adj matrix:\n",
      "[[[0.         0.9218955 ]\n",
      "  [0.02194268 0.        ]]]\n",
      "Number of edges in adj matrix (unrounded) 0.9438381791114807, (rounded) 1.0.\n",
      "Updating rho, dag penalty prev:  0.0217455354\n",
      "Dag penalty: 0.026067878723145\n",
      "Rho: 0.07, alpha: 100.00\n"
     ]
    },
    {
     "name": "stderr",
     "output_type": "stream",
     "text": [
      "2022-07-06 15:02:00.124771: I tensorflow/core/util/util.cc:169] oneDNN custom operations are on. You may see slightly different numerical results due to floating-point round-off errors from different computation orders. To turn them off, set the environment variable `TF_ENABLE_ONEDNN_OPTS=0`.\n"
     ]
    }
   ],
   "source": [
    "model.run_train(dataset, run_context.metrics_logger, training_params)"
   ]
  },
  {
   "cell_type": "markdown",
   "id": "2902299a",
   "metadata": {},
   "source": [
    "## Causal discovery results"
   ]
  },
  {
   "cell_type": "code",
   "execution_count": 13,
   "id": "e168228b",
   "metadata": {},
   "outputs": [
    {
     "name": "stdout",
     "output_type": "stream",
     "text": [
      "[(0, 1)]\n"
     ]
    }
   ],
   "source": [
    "graph = model.networkx_graph()\n",
    "print(graph.edges)"
   ]
  },
  {
   "cell_type": "code",
   "execution_count": 14,
   "id": "b17f3ddc",
   "metadata": {},
   "outputs": [
    {
     "data": {
      "image/png": "[encoded data removed]",
      "text/plain": [
       "<Figure size 432x288 with 1 Axes>"
      ]
     },
     "metadata": {},
     "output_type": "display_data"
    }
   ],
   "source": [
    "nx.draw_networkx(graph, arrows=True, with_labels=True)"
   ]
  },
  {
   "cell_type": "markdown",
   "id": "b75aacf6",
   "metadata": {},
   "source": [
    "We can compare this with the true graph:"
   ]
  },
  {
   "cell_type": "code",
   "execution_count": 15,
   "id": "91b4381a",
   "metadata": {},
   "outputs": [
    {
     "data": {
      "image/png": "[encoded data removed]",
      "text/plain": [
       "<Figure size 432x288 with 1 Axes>"
      ]
     },
     "metadata": {},
     "output_type": "display_data"
    }
   ],
   "source": [
    "plot_true_graph(dataset)"
   ]
  },
  {
   "cell_type": "markdown",
   "id": "9ae451fa",
   "metadata": {},
   "source": [
    "## Causal inference results\n",
    "\n",
    "DECI has also fitted an SCM that captures the functional relationship and error distribution of this dataset."
   ]
  },
  {
   "cell_type": "markdown",
   "id": "af7ce6f6",
   "metadata": {},
   "source": [
    "We can estimate ATE and compare it to the ATE estimate from ground truth interventional data. Here we will compute E[B|do(A=1)] - E[B|do(A=-1)]."
   ]
  },
  {
   "cell_type": "code",
   "execution_count": 16,
   "id": "9758aafc",
   "metadata": {},
   "outputs": [
    {
     "name": "stdout",
     "output_type": "stream",
     "text": [
      "Estimated ATE: 0.9137815\n"
     ]
    }
   ],
   "source": [
    "import numpy as np\n",
    "\n",
    "intervention_idxs = np.array([0])\n",
    "outcome_idx = 1\n",
    "\n",
    "### Model-based ATE estimate\n",
    "do_1 = model.sample(5000, intervention_idxs=intervention_idxs, intervention_values=np.array([1.])).cpu().numpy()\n",
    "do_minus_1 = model.sample(5000, intervention_idxs=intervention_idxs, intervention_values=np.array([-1.])).cpu().numpy()\n",
    "ate_estimate = do_1[:, outcome_idx].mean() - do_minus_1[:, outcome_idx].mean()\n",
    "print(\"Estimated ATE:\", ate_estimate)"
   ]
  },
  {
   "cell_type": "code",
   "execution_count": 17,
   "id": "368b9625",
   "metadata": {},
   "outputs": [
    {
     "name": "stdout",
     "output_type": "stream",
     "text": [
      "Interventional ATE: 0.9873394528627396\n"
     ]
    }
   ],
   "source": [
    "### Interventional test data ATE\n",
    "ate_true = dataset._intervention_data[0].test_data[:, outcome_idx].mean() - dataset._intervention_data[0].reference_data[:, outcome_idx].mean()\n",
    "print(\"Interventional ATE:\", ate_true)"
   ]
  },
  {
   "cell_type": "code",
   "execution_count": 18,
   "id": "1304809d",
   "metadata": {},
   "outputs": [
    {
     "name": "stdout",
     "output_type": "stream",
     "text": [
      "Theoretical ATE is 1.\n"
     ]
    }
   ],
   "source": [
    "print(\"Theoretical ATE is 1.\")"
   ]
  },
  {
   "cell_type": "code",
   "execution_count": 23,
   "id": "dd1b16a4",
   "metadata": {},
   "outputs": [
    {
     "data": {
      "text/plain": [
       "(array([0.92462771]), array([0.12033765]))"
      ]
     },
     "execution_count": 23,
     "metadata": {},
     "output_type": "execute_result"
    }
   ],
   "source": [
    "model.cate(\n",
    "    intervention_idxs=intervention_idxs, intervention_values=np.array([1]),\n",
    "    reference_values=np.array([-1.]), effect_idxs=np.array([1]))"
   ]
  },
  {
   "cell_type": "code",
   "execution_count": 36,
   "id": "d40a5414",
   "metadata": {},
   "outputs": [
    {
     "name": "stdout",
     "output_type": "stream",
     "text": [
      "Help on method cate in module open_source.causica.models.deci.deci:\n",
      "\n",
      "cate(intervention_idxs: 'Union[torch.Tensor, np.ndarray]', intervention_values: 'Union[torch.Tensor, np.ndarray]', reference_values: 'Optional[Union[torch.Tensor, np.ndarray]]' = None, effect_idxs: 'Optional[Union[torch.Tensor, np.ndarray]]' = None, conditioning_idxs: 'Optional[Union[torch.Tensor, np.ndarray]]' = None, conditioning_values: 'Optional[Union[torch.Tensor, np.ndarray]]' = None, Nsamples_per_graph: 'int' = 2, Ngraphs: 'Optional[int]' = 1000, most_likely_graph: 'bool' = False) method of open_source.causica.models.deci.deci.DECI instance\n",
      "    Returns average treatment effect for a given intervention.\n",
      "    \n",
      "    Computes and returns the average treatment effect for a given intervention with the option of conditioning on\n",
      "    additional variables.\n",
      "    \n",
      "    Args:\n",
      "        intervention_idxs: torch.Tensor of shape (input_dim) array containing indices of variables that have been\n",
      "            intervened.\n",
      "        intervention_values: torch.Tensor of shape (input_dim) array containing values for variables that have been\n",
      "            iintervened.\n",
      "        reference_values: optional torch.Tensor containing a reference value for the treatment. If specified will\n",
      "            compute E[Y | do(T=k), X] - E[Y | do(T=k'), X]. Otherwise will compute\n",
      "            E[Y | do(T=k), X] - E[Y | X] = E[Y | do(T=k), X] - E[Y | do(T=mu_T), X]\n",
      "        effect_idxs:  optional torch.Tensor containing indices on which treatment effects should be evaluated\n",
      "        conditioning_idxs: torch.Tensor of shape (input_dim) optional array containing indices of variables that we\n",
      "            condition on.\n",
      "        conditioning_values: torch.Tensor of shape (input_dim) optional array containing values for variables that\n",
      "            we condition on.\n",
      "        Nsamples_per_graph: int containing number of samples to draw\n",
      "        Ngraphs: Number of different graphs to sample for graph posterior marginalisation. If None, defaults to\n",
      "            Nsamples\n",
      "        most_likely_graph: bool indicatng whether to deterministically pick the most probable graph under the\n",
      "            approximate posterior or to draw a new graph for every sample\n",
      "    \n",
      "    \n",
      "    Returns:\n",
      "        (ate, ate_norm): (np.ndarray, np.ndarray) both of size (input_dim) average treatment effect computed on\n",
      "            regular and normalised data\n",
      "\n"
     ]
    }
   ],
   "source": [
    "help(model.cate)"
   ]
  },
  {
   "cell_type": "markdown",
   "id": "e6dfc3ec",
   "metadata": {},
   "source": [
    "In short, we can start from data, do causal discovery and causal inference, yielding treatment effect estimates that actions can be based upon."
   ]
  },
  {
   "cell_type": "markdown",
   "id": "73e348ec",
   "metadata": {},
   "source": [
    "## Graph constraints\n",
    "First, train on a new dataset with no constraints. *Note*: this is a very difficult dataset in which all variables are strongly correlated with one another."
   ]
  },
  {
   "cell_type": "markdown",
   "id": "812794d6",
   "metadata": {},
   "source": [
    "To load the dataset, first ensure that it has been generated under `./data`"
   ]
  },
  {
   "cell_type": "code",
   "execution_count": 27,
   "id": "ee65609f",
   "metadata": {},
   "outputs": [
    {
     "name": "stderr",
     "output_type": "stream",
     "text": [
      "/home/npawlowski/code/causica_main/open_source/causica/datasets/csv_dataset_loader.py:132: UserWarning: Validation data file not found: ./data/csuite_nonlin_simpson/val.csv.\n",
      "  warnings.warn(f\"Validation data file not found: {val_data_path}.\", UserWarning)\n"
     ]
    },
    {
     "name": "stdout",
     "output_type": "stream",
     "text": [
      "Minimum value of variable Column 0 inferred as -3.2742233276367188. This can be changed manually in the dataset's variables.json file\n",
      "Max value of variable Column 0 inferred as 3.15141224861145. This can be changed manually in the dataset's variables.json file\n",
      "Variable Column 0 inferred to be a queriable variable. This can be changed manually in the dataset's variables.json file by updating the \"query\" field.\n",
      "Variable Column 0 inferred as not an active learning target variable. This can be changed manually in the dataset's variables.json file by updating the \"target\" field.\n",
      "Variable Column 0 inferred as an always observed target variable. This can be changed manually in the dataset's variables.json file by updating the \"always_observed\" field.\n",
      "Minimum value of variable Column 1 inferred as -1.5287634134292603. This can be changed manually in the dataset's variables.json file\n",
      "Max value of variable Column 1 inferred as 2.87360954284668. This can be changed manually in the dataset's variables.json file\n",
      "Variable Column 1 inferred to be a queriable variable. This can be changed manually in the dataset's variables.json file by updating the \"query\" field.\n",
      "Variable Column 1 inferred as not an active learning target variable. This can be changed manually in the dataset's variables.json file by updating the \"target\" field.\n",
      "Variable Column 1 inferred as an always observed target variable. This can be changed manually in the dataset's variables.json file by updating the \"always_observed\" field.\n",
      "Minimum value of variable Column 2 inferred as -5.494897365570068. This can be changed manually in the dataset's variables.json file\n",
      "Max value of variable Column 2 inferred as 3.2261133193969727. This can be changed manually in the dataset's variables.json file\n",
      "Variable Column 2 inferred to be a queriable variable. This can be changed manually in the dataset's variables.json file by updating the \"query\" field.\n",
      "Variable Column 2 inferred as not an active learning target variable. This can be changed manually in the dataset's variables.json file by updating the \"target\" field.\n",
      "Variable Column 2 inferred as an always observed target variable. This can be changed manually in the dataset's variables.json file by updating the \"always_observed\" field.\n",
      "Minimum value of variable Column 3 inferred as -1.937317371368408. This can be changed manually in the dataset's variables.json file\n",
      "Max value of variable Column 3 inferred as 2.244907855987549. This can be changed manually in the dataset's variables.json file\n",
      "Variable Column 3 inferred to be a queriable variable. This can be changed manually in the dataset's variables.json file by updating the \"query\" field.\n",
      "Variable Column 3 inferred as not an active learning target variable. This can be changed manually in the dataset's variables.json file by updating the \"target\" field.\n",
      "Variable Column 3 inferred as an always observed target variable. This can be changed manually in the dataset's variables.json file by updating the \"always_observed\" field.\n"
     ]
    }
   ],
   "source": [
    "simpson_data = load_data(\"csuite_nonlin_simpson\", \"./data\", 0, dataset_config, model_config, False, run_context.download_dataset)"
   ]
  },
  {
   "cell_type": "code",
   "execution_count": 28,
   "id": "7206785b",
   "metadata": {},
   "outputs": [
    {
     "name": "stdout",
     "output_type": "stream",
     "text": [
      "New dataset with 4 nodes.\n"
     ]
    }
   ],
   "source": [
    "print(f\"New dataset with {simpson_data.variables.num_groups} nodes.\")"
   ]
  },
  {
   "cell_type": "code",
   "execution_count": 29,
   "id": "26c74ca6",
   "metadata": {},
   "outputs": [
    {
     "name": "stdout",
     "output_type": "stream",
     "text": [
      "The true graph is:\n"
     ]
    },
    {
     "data": {
      "image/png": "[encoded data removed]",
      "text/plain": [
       "<Figure size 432x288 with 1 Axes>"
      ]
     },
     "metadata": {},
     "output_type": "display_data"
    }
   ],
   "source": [
    "print(\"The true graph is:\")\n",
    "plot_true_graph(simpson_data)"
   ]
  },
  {
   "cell_type": "code",
   "execution_count": 30,
   "id": "b8369cc0",
   "metadata": {},
   "outputs": [
    {
     "data": {
      "text/html": [
       "<div>\n",
       "<style scoped>\n",
       "    .dataframe tbody tr th:only-of-type {\n",
       "        vertical-align: middle;\n",
       "    }\n",
       "\n",
       "    .dataframe tbody tr th {\n",
       "        vertical-align: top;\n",
       "    }\n",
       "\n",
       "    .dataframe thead th {\n",
       "        text-align: right;\n",
       "    }\n",
       "</style>\n",
       "<table border=\"1\" class=\"dataframe\">\n",
       "  <thead>\n",
       "    <tr style=\"text-align: right;\">\n",
       "      <th></th>\n",
       "      <th>Column 0</th>\n",
       "      <th>Column 1</th>\n",
       "      <th>Column 2</th>\n",
       "      <th>Column 3</th>\n",
       "    </tr>\n",
       "  </thead>\n",
       "  <tbody>\n",
       "    <tr>\n",
       "      <th>0</th>\n",
       "      <td>-0.313854</td>\n",
       "      <td>-0.086297</td>\n",
       "      <td>-2.207146</td>\n",
       "      <td>-1.183498</td>\n",
       "    </tr>\n",
       "    <tr>\n",
       "      <th>1</th>\n",
       "      <td>0.055711</td>\n",
       "      <td>-0.248166</td>\n",
       "      <td>-0.817248</td>\n",
       "      <td>-0.760595</td>\n",
       "    </tr>\n",
       "    <tr>\n",
       "      <th>2</th>\n",
       "      <td>0.111356</td>\n",
       "      <td>-0.385469</td>\n",
       "      <td>-1.035435</td>\n",
       "      <td>-0.775432</td>\n",
       "    </tr>\n",
       "    <tr>\n",
       "      <th>3</th>\n",
       "      <td>0.749707</td>\n",
       "      <td>-0.736782</td>\n",
       "      <td>-1.543384</td>\n",
       "      <td>-1.011732</td>\n",
       "    </tr>\n",
       "    <tr>\n",
       "      <th>4</th>\n",
       "      <td>0.029076</td>\n",
       "      <td>-0.454397</td>\n",
       "      <td>-1.750655</td>\n",
       "      <td>-1.088691</td>\n",
       "    </tr>\n",
       "  </tbody>\n",
       "</table>\n",
       "</div>"
      ],
      "text/plain": [
       "   Column 0  Column 1  Column 2  Column 3\n",
       "0 -0.313854 -0.086297 -2.207146 -1.183498\n",
       "1  0.055711 -0.248166 -0.817248 -0.760595\n",
       "2  0.111356 -0.385469 -1.035435 -0.775432\n",
       "3  0.749707 -0.736782 -1.543384 -1.011732\n",
       "4  0.029076 -0.454397 -1.750655 -1.088691"
      ]
     },
     "execution_count": 30,
     "metadata": {},
     "output_type": "execute_result"
    }
   ],
   "source": [
    "simpson_df = pd.DataFrame(simpson_data._train_data, columns=simpson_data.variables.group_names)\n",
    "simpson_df.head()"
   ]
  },
  {
   "cell_type": "code",
   "execution_count": 31,
   "id": "41ee303c",
   "metadata": {},
   "outputs": [],
   "source": [
    "simpson_model = DECI(\"mymodel\", simpson_data.variables, \"mysavedir\", device, **model_config)"
   ]
  },
  {
   "cell_type": "code",
   "execution_count": 32,
   "id": "a00312cc",
   "metadata": {},
   "outputs": [
    {
     "name": "stderr",
     "output_type": "stream",
     "text": [
      "/home/npawlowski/code/causica_main/open_source/causica/preprocessing/data_processor.py:400: UserWarning: Data too low for continous variables [0 2 3]\n",
      "  warnings.warn(\n",
      "/home/npawlowski/code/causica_main/open_source/causica/preprocessing/data_processor.py:405: UserWarning: Data too high for continous variables [0 2 3]\n",
      "  warnings.warn(\n"
     ]
    },
    {
     "name": "stdout",
     "output_type": "stream",
     "text": [
      "Auglag Step: 0\n",
      "LR: 0.05\n",
      "Inner Step: 500, loss: 4.90, log p(x|A): -4.44, dag: 0.27460284,                 log p(A)_sp: -0.01, log q(A): -0.003, H filled: 0.000, rec: 0.448\n",
      "Inner Step: 1000, loss: 3.28, log p(x|A): -2.92, dag: 0.68911714,                 log p(A)_sp: -0.01, log q(A): -0.002, H filled: 0.000, rec: 0.355\n",
      "Inner Step: 1500, loss: 2.63, log p(x|A): -2.30, dag: 0.89266207,                 log p(A)_sp: -0.01, log q(A): -0.001, H filled: 0.000, rec: 0.320\n",
      "Reducing lr to 0.00500\n",
      "Inner Step: 2000, loss: 2.30, log p(x|A): -1.99, dag: 0.97393672,                 log p(A)_sp: -0.01, log q(A): -0.001, H filled: 0.000, rec: 0.301\n",
      "Best model found at innner step 1980, with Loss 1.09\n",
      "Dag penalty after inner: 0.9739367189\n",
      "Time taken for this step 43.82605290412903\n",
      "Unrounded adj matrix:\n",
      "[[[0.00000000e+00 9.97990668e-01 1.30712986e-04 9.97578442e-01]\n",
      "  [1.29342079e-05 0.00000000e+00 2.49147415e-05 9.83616710e-01]\n",
      "  [9.99353290e-01 9.96481597e-01 0.00000000e+00 4.89056110e-04]\n",
      "  [2.23410130e-03 1.29517317e-02 9.99464929e-01 0.00000000e+00]]]\n",
      "Number of edges in adj matrix (unrounded) 5.990329086780548, (rounded) 6.0.\n",
      "Not done inner optimization.\n",
      "Dag penalty: 0.973936718940735\n",
      "Rho: 0.00, alpha: 1.00\n",
      "Auglag Step: 1\n",
      "LR: 0.005000000000000001\n",
      "Inner Step: 500, loss: 1.10, log p(x|A): -0.85, dag: 1.19001705,                 log p(A)_sp: -0.01, log q(A): -0.000, H filled: 0.000, rec: 0.235\n",
      "Inner Step: 1000, loss: 1.09, log p(x|A): -0.85, dag: 1.19642838,                 log p(A)_sp: -0.01, log q(A): -0.000, H filled: 0.000, rec: 0.230\n",
      "Reducing lr to 0.00050\n",
      "Inner Step: 1500, loss: 1.08, log p(x|A): -0.84, dag: 1.19427407,                 log p(A)_sp: -0.01, log q(A): -0.000, H filled: 0.000, rec: 0.229\n",
      "Reducing lr to 0.00005\n",
      "Inner Step: 2000, loss: 1.08, log p(x|A): -0.83, dag: 1.19126655,                 log p(A)_sp: -0.01, log q(A): -0.000, H filled: 0.000, rec: 0.228\n",
      "Best model found at innner step 1884, with Loss 0.99\n",
      "Dag penalty after inner: 1.1912665458\n",
      "Time taken for this step 43.05388021469116\n",
      "Unrounded adj matrix:\n",
      "[[[0.00000000e+00 9.97962654e-01 1.30832195e-04 9.97945726e-01]\n",
      "  [1.31130219e-05 0.00000000e+00 2.37226486e-05 9.84544933e-01]\n",
      "  [9.99352813e-01 9.96653616e-01 0.00000000e+00 4.99308109e-04]\n",
      "  [1.90174580e-03 1.22449994e-02 9.99455631e-01 0.00000000e+00]]]\n",
      "Number of edges in adj matrix (unrounded) 5.990729093551636, (rounded) 6.0.\n",
      "Updating alpha.\n",
      "Dag penalty: 1.191266545772552\n",
      "Rho: 1.19, alpha: 1.00\n",
      "Auglag Step: 2\n",
      "LR: 5.0000000000000016e-05\n",
      "Inner Step: 500, loss: 1.07, log p(x|A): -0.82, dag: 1.18950501,                 log p(A)_sp: -0.01, log q(A): -0.000, H filled: 0.000, rec: 0.230\n",
      "Inner Step: 1000, loss: 1.06, log p(x|A): -0.82, dag: 1.18462102,                 log p(A)_sp: -0.01, log q(A): -0.000, H filled: 0.000, rec: 0.228\n",
      "Reducing lr to 0.00001\n",
      "Inner Step: 1500, loss: 1.06, log p(x|A): -0.82, dag: 1.18494937,                 log p(A)_sp: -0.01, log q(A): -0.000, H filled: 0.000, rec: 0.228\n",
      "Reducing lr to 0.00000\n",
      "Inner Step: 2000, loss: 1.06, log p(x|A): -0.82, dag: 1.18714248,                 log p(A)_sp: -0.01, log q(A): -0.000, H filled: 0.000, rec: 0.228\n",
      "Best model found at innner step 588, with Loss 0.98\n",
      "Dag penalty after inner: 1.1871424837\n",
      "Time taken for this step 50.15243101119995\n",
      "Unrounded adj matrix:\n",
      "[[[0.00000000e+00 9.97965991e-01 1.30653381e-04 9.97949004e-01]\n",
      "  [1.31130219e-05 0.00000000e+00 2.37226486e-05 9.84566212e-01]\n",
      "  [9.99353886e-01 9.96659458e-01 0.00000000e+00 4.98175621e-04]\n",
      "  [1.89882517e-03 1.22292638e-02 9.99456942e-01 0.00000000e+00]]]\n",
      "Number of edges in adj matrix (unrounded) 5.99074524641037, (rounded) 6.0.\n",
      "Updating rho, dag penalty prev:  1.1912665458\n",
      "Dag penalty: 1.187142483711243\n",
      "Rho: 1.19, alpha: 10.00\n",
      "Auglag Step: 3\n",
      "LR: 5.000000000000002e-07\n",
      "Inner Step: 500, loss: 1.08, log p(x|A): -0.83, dag: 1.19785009,                 log p(A)_sp: -0.01, log q(A): -0.000, H filled: 0.000, rec: 0.228\n",
      "Inner Step: 1000, loss: 1.08, log p(x|A): -0.83, dag: 1.18960895,                 log p(A)_sp: -0.01, log q(A): -0.000, H filled: 0.000, rec: 0.228\n",
      "Inner Step: 1500, loss: 1.07, log p(x|A): -0.82, dag: 1.18830650,                 log p(A)_sp: -0.01, log q(A): -0.000, H filled: 0.000, rec: 0.228\n",
      "Reducing lr to 0.00000\n",
      "Inner Step: 2000, loss: 1.07, log p(x|A): -0.82, dag: 1.18971812,                 log p(A)_sp: -0.01, log q(A): -0.000, H filled: 0.000, rec: 0.229\n",
      "Best model found at innner step 1072, with Loss 1.00\n",
      "Dag penalty after inner: 1.1897181213\n",
      "Time taken for this step 51.45729184150696\n",
      "Unrounded adj matrix:\n",
      "[[[0.00000000e+00 9.97965991e-01 1.30653381e-04 9.97949004e-01]\n",
      "  [1.31130219e-05 0.00000000e+00 2.36630440e-05 9.84566808e-01]\n",
      "  [9.99354005e-01 9.96659458e-01 0.00000000e+00 4.98175621e-04]\n",
      "  [1.89882517e-03 1.22287869e-02 9.99456942e-01 0.00000000e+00]]]\n",
      "Number of edges in adj matrix (unrounded) 5.990745425224304, (rounded) 6.0.\n",
      "Not done inner optimization.\n",
      "Dag penalty: 1.189718121290207\n",
      "Rho: 1.19, alpha: 10.00\n",
      "Auglag Step: 4\n",
      "LR: 5.0000000000000024e-08\n",
      "Inner Step: 500, loss: 1.06, log p(x|A): -0.82, dag: 1.20469358,                 log p(A)_sp: -0.02, log q(A): -0.000, H filled: 0.000, rec: 0.226\n",
      "Reducing lr to 0.00000\n",
      "Inner Step: 1000, loss: 1.08, log p(x|A): -0.83, dag: 1.20345961,                 log p(A)_sp: -0.02, log q(A): -0.000, H filled: 0.000, rec: 0.226\n",
      "Reducing lr to 0.00000\n",
      "Inner Step: 1500, loss: 1.07, log p(x|A): -0.83, dag: 1.19567693,                 log p(A)_sp: -0.01, log q(A): -0.000, H filled: 0.000, rec: 0.226\n",
      "Reducing lr to 0.00000\n",
      "Exiting at innner step 1972.\n",
      "Best model found at innner step 972, with Loss 0.99\n",
      "Dag penalty after inner: 1.1937635327\n",
      "Time taken for this step 49.47838592529297\n",
      "Unrounded adj matrix:\n",
      "[[[0.00000000e+00 9.97965991e-01 1.30653381e-04 9.97949004e-01]\n",
      "  [1.31130219e-05 0.00000000e+00 2.36630440e-05 9.84566808e-01]\n",
      "  [9.99354005e-01 9.96659458e-01 0.00000000e+00 4.98175621e-04]\n",
      "  [1.89882517e-03 1.22287869e-02 9.99456942e-01 0.00000000e+00]]]\n",
      "Number of edges in adj matrix (unrounded) 5.990745425224304, (rounded) 6.0.\n",
      "Updating rho, dag penalty prev:  1.1912665458\n",
      "Dag penalty: 1.193763532696583\n",
      "Rho: 1.19, alpha: 100.00\n",
      "Auglag Step: 5\n",
      "LR: 5.000000000000003e-11\n",
      "Inner Step: 500, loss: 1.09, log p(x|A): -0.81, dag: 1.19631931,                 log p(A)_sp: -0.02, log q(A): -0.000, H filled: 0.000, rec: 0.231\n",
      "Reducing lr to 0.00000\n",
      "Inner Step: 1000, loss: 1.09, log p(x|A): -0.81, dag: 1.18636895,                 log p(A)_sp: -0.01, log q(A): -0.000, H filled: 0.000, rec: 0.228\n",
      "Reducing lr to 0.00000\n",
      "Inner Step: 1500, loss: 1.10, log p(x|A): -0.82, dag: 1.18821708,                 log p(A)_sp: -0.01, log q(A): -0.000, H filled: 0.000, rec: 0.228\n",
      "Reducing lr to 0.00000\n",
      "Exiting at innner step 1524.\n",
      "Best model found at innner step 24, with Loss 1.03\n",
      "Dag penalty after inner: 1.1881866943\n",
      "Time taken for this step 36.278372287750244\n",
      "Unrounded adj matrix:\n",
      "[[[0.00000000e+00 9.97965991e-01 1.30653381e-04 9.97949004e-01]\n",
      "  [1.31130219e-05 0.00000000e+00 2.36630440e-05 9.84566808e-01]\n",
      "  [9.99354005e-01 9.96659458e-01 0.00000000e+00 4.98175621e-04]\n",
      "  [1.89882517e-03 1.22287869e-02 9.99456942e-01 0.00000000e+00]]]\n",
      "Number of edges in adj matrix (unrounded) 5.990745425224304, (rounded) 6.0.\n",
      "Updating rho, dag penalty prev:  1.1912665458\n",
      "Dag penalty: 1.188186694317915\n",
      "Rho: 1.19, alpha: 1000.00\n",
      "Auglag Step: 6\n",
      "LR: 5.000000000000003e-14\n",
      "Inner Step: 500, loss: 1.43, log p(x|A): -0.82, dag: 1.19231939,                 log p(A)_sp: -0.01, log q(A): -0.000, H filled: 0.000, rec: 0.231\n",
      "Inner Step: 1000, loss: 1.43, log p(x|A): -0.82, dag: 1.18970276,                 log p(A)_sp: -0.01, log q(A): -0.000, H filled: 0.000, rec: 0.229\n",
      "Reducing lr to 0.00000\n",
      "Inner Step: 1500, loss: 1.42, log p(x|A): -0.82, dag: 1.18889451,                 log p(A)_sp: -0.01, log q(A): -0.000, H filled: 0.000, rec: 0.229\n",
      "Inner Step: 2000, loss: 1.42, log p(x|A): -0.81, dag: 1.18911231,                 log p(A)_sp: -0.01, log q(A): -0.000, H filled: 0.000, rec: 0.227\n",
      "Best model found at innner step 1612, with Loss 1.33\n",
      "Dag penalty after inner: 1.1891123128\n",
      "Time taken for this step 49.396427631378174\n",
      "Unrounded adj matrix:\n",
      "[[[0.00000000e+00 9.97965991e-01 1.30653381e-04 9.97949004e-01]\n",
      "  [1.31130219e-05 0.00000000e+00 2.36630440e-05 9.84566808e-01]\n",
      "  [9.99354005e-01 9.96659458e-01 0.00000000e+00 4.98175621e-04]\n",
      "  [1.89882517e-03 1.22287869e-02 9.99456942e-01 0.00000000e+00]]]\n",
      "Number of edges in adj matrix (unrounded) 5.990745425224304, (rounded) 6.0.\n",
      "Not done inner optimization.\n",
      "Dag penalty: 1.189112312793732\n",
      "Rho: 1.19, alpha: 1000.00\n",
      "Auglag Step: 7\n",
      "LR: 5.000000000000004e-15\n"
     ]
    },
    {
     "name": "stdout",
     "output_type": "stream",
     "text": [
      "Inner Step: 500, loss: 1.43, log p(x|A): -0.82, dag: 1.19935088,                 log p(A)_sp: -0.01, log q(A): -0.000, H filled: 0.000, rec: 0.229\n",
      "Reducing lr to 0.00000\n",
      "Inner Step: 1000, loss: 1.42, log p(x|A): -0.82, dag: 1.19072395,                 log p(A)_sp: -0.01, log q(A): -0.000, H filled: 0.000, rec: 0.228\n",
      "Reducing lr to 0.00000\n",
      "Inner Step: 1500, loss: 1.42, log p(x|A): -0.81, dag: 1.19267034,                 log p(A)_sp: -0.01, log q(A): -0.000, H filled: 0.000, rec: 0.228\n",
      "Reducing lr to 0.00000\n",
      "Exiting at innner step 1556.\n",
      "Best model found at innner step 56, with Loss 1.34\n",
      "Dag penalty after inner: 1.1930086037\n",
      "Time taken for this step 26.97478675842285\n",
      "Unrounded adj matrix:\n",
      "[[[0.00000000e+00 9.97965991e-01 1.30653381e-04 9.97949004e-01]\n",
      "  [1.31130219e-05 0.00000000e+00 2.36630440e-05 9.84566808e-01]\n",
      "  [9.99354005e-01 9.96659458e-01 0.00000000e+00 4.98175621e-04]\n",
      "  [1.89882517e-03 1.22287869e-02 9.99456942e-01 0.00000000e+00]]]\n",
      "Number of edges in adj matrix (unrounded) 5.990745425224304, (rounded) 6.0.\n",
      "Updating rho, dag penalty prev:  1.1912665458\n",
      "Dag penalty: 1.193008603657426\n",
      "Rho: 1.19, alpha: 10000.00\n",
      "Auglag Step: 8\n",
      "LR: 5.000000000000005e-18\n",
      "Inner Step: 500, loss: 4.67, log p(x|A): -0.83, dag: 1.18954977,                 log p(A)_sp: -0.01, log q(A): -0.000, H filled: 0.000, rec: 0.230\n",
      "Inner Step: 1000, loss: 4.66, log p(x|A): -0.83, dag: 1.18464681,                 log p(A)_sp: -0.01, log q(A): -0.000, H filled: 0.000, rec: 0.230\n",
      "Inner Step: 1500, loss: 4.63, log p(x|A): -0.83, dag: 1.17839128,                 log p(A)_sp: -0.01, log q(A): -0.000, H filled: 0.000, rec: 0.229\n",
      "Reducing lr to 0.00000\n",
      "Inner Step: 2000, loss: 4.64, log p(x|A): -0.83, dag: 1.18014414,                 log p(A)_sp: -0.01, log q(A): -0.000, H filled: 0.000, rec: 0.228\n",
      "Best model found at innner step 1024, with Loss 3.97\n",
      "Dag penalty after inner: 1.1801441376\n",
      "Time taken for this step 60.89367055892944\n",
      "Unrounded adj matrix:\n",
      "[[[0.00000000e+00 9.97965991e-01 1.30653381e-04 9.97949004e-01]\n",
      "  [1.31130219e-05 0.00000000e+00 2.36630440e-05 9.84566808e-01]\n",
      "  [9.99354005e-01 9.96659458e-01 0.00000000e+00 4.98175621e-04]\n",
      "  [1.89882517e-03 1.22287869e-02 9.99456942e-01 0.00000000e+00]]]\n",
      "Number of edges in adj matrix (unrounded) 5.990745425224304, (rounded) 6.0.\n",
      "Not done inner optimization.\n",
      "Dag penalty: 1.180144137620926\n",
      "Rho: 1.19, alpha: 10000.00\n",
      "Auglag Step: 9\n",
      "LR: 5.000000000000005e-19\n",
      "Inner Step: 500, loss: 4.68, log p(x|A): -0.82, dag: 1.19352917,                 log p(A)_sp: -0.01, log q(A): -0.000, H filled: 0.000, rec: 0.230\n",
      "Inner Step: 1000, loss: 4.79, log p(x|A): -0.81, dag: 1.20534336,                 log p(A)_sp: -0.02, log q(A): -0.000, H filled: 0.000, rec: 0.228\n",
      "Reducing lr to 0.00000\n",
      "Inner Step: 1500, loss: 4.74, log p(x|A): -0.81, dag: 1.19955864,                 log p(A)_sp: -0.02, log q(A): -0.000, H filled: 0.000, rec: 0.228\n",
      "Reducing lr to 0.00000\n",
      "Inner Step: 2000, loss: 4.74, log p(x|A): -0.81, dag: 1.19945007,                 log p(A)_sp: -0.02, log q(A): -0.000, H filled: 0.000, rec: 0.228\n",
      "Best model found at innner step 508, with Loss 4.01\n",
      "Dag penalty after inner: 1.1994500661\n",
      "Time taken for this step 65.88224148750305\n",
      "Unrounded adj matrix:\n",
      "[[[0.00000000e+00 9.97965991e-01 1.30653381e-04 9.97949004e-01]\n",
      "  [1.31130219e-05 0.00000000e+00 2.36630440e-05 9.84566808e-01]\n",
      "  [9.99354005e-01 9.96659458e-01 0.00000000e+00 4.98175621e-04]\n",
      "  [1.89882517e-03 1.22287869e-02 9.99456942e-01 0.00000000e+00]]]\n",
      "Number of edges in adj matrix (unrounded) 5.990745425224304, (rounded) 6.0.\n",
      "Updating rho, dag penalty prev:  1.1912665458\n",
      "Dag penalty: 1.199450066089630\n",
      "Rho: 1.19, alpha: 100000.00\n"
     ]
    }
   ],
   "source": [
    "# You may need more auglag steps / higher rho to make sure you do not get a non-DAG\n",
    "training_params['max_auglag_inner_epochs'] = 2000\n",
    "training_params['max_steps_auglag'] = 10\n",
    "\n",
    "simpson_model.run_train(simpson_data, run_context.metrics_logger, training_params)"
   ]
  },
  {
   "cell_type": "code",
   "execution_count": 33,
   "id": "4d3ac03a",
   "metadata": {},
   "outputs": [
    {
     "ename": "AssertionError",
     "evalue": "Generate non DAG graph",
     "output_type": "error",
     "traceback": [
      "\u001b[0;31m---------------------------------------------------------------------------\u001b[0m",
      "\u001b[0;31mAssertionError\u001b[0m                            Traceback (most recent call last)",
      "Input \u001b[0;32mIn [33]\u001b[0m, in \u001b[0;36m<cell line: 1>\u001b[0;34m()\u001b[0m\n\u001b[0;32m----> 1\u001b[0m \u001b[38;5;28mprint\u001b[39m(\u001b[43msimpson_model\u001b[49m\u001b[38;5;241;43m.\u001b[39;49m\u001b[43mnetworkx_graph\u001b[49m\u001b[43m(\u001b[49m\u001b[43m)\u001b[49m\u001b[38;5;241m.\u001b[39medges)\n",
      "File \u001b[0;32m~/code/causica_main/open_source/causica/models/deci/deci.py:298\u001b[0m, in \u001b[0;36mDECI.networkx_graph\u001b[0;34m(self)\u001b[0m\n\u001b[1;32m    296\u001b[0m adj_mat \u001b[38;5;241m=\u001b[39m \u001b[38;5;28mself\u001b[39m\u001b[38;5;241m.\u001b[39mget_adj_matrix(samples\u001b[38;5;241m=\u001b[39m\u001b[38;5;241m1\u001b[39m, most_likely_graph\u001b[38;5;241m=\u001b[39m\u001b[38;5;28;01mTrue\u001b[39;00m, squeeze\u001b[38;5;241m=\u001b[39m\u001b[38;5;28;01mTrue\u001b[39;00m)\n\u001b[1;32m    297\u001b[0m \u001b[38;5;66;03m# Check if non DAG adjacency matrix\u001b[39;00m\n\u001b[0;32m--> 298\u001b[0m \u001b[38;5;28;01massert\u001b[39;00m (np\u001b[38;5;241m.\u001b[39mtrace(scipy\u001b[38;5;241m.\u001b[39mlinalg\u001b[38;5;241m.\u001b[39mexpm(adj_mat)) \u001b[38;5;241m-\u001b[39m \u001b[38;5;28mself\u001b[39m\u001b[38;5;241m.\u001b[39mnum_nodes) \u001b[38;5;241m==\u001b[39m \u001b[38;5;241m0\u001b[39m, \u001b[38;5;124m\"\u001b[39m\u001b[38;5;124mGenerate non DAG graph\u001b[39m\u001b[38;5;124m\"\u001b[39m\n\u001b[1;32m    299\u001b[0m \u001b[38;5;28;01mreturn\u001b[39;00m nx\u001b[38;5;241m.\u001b[39mconvert_matrix\u001b[38;5;241m.\u001b[39mfrom_numpy_matrix(adj_mat, create_using\u001b[38;5;241m=\u001b[39mnx\u001b[38;5;241m.\u001b[39mDiGraph)\n",
      "\u001b[0;31mAssertionError\u001b[0m: Generate non DAG graph"
     ]
    }
   ],
   "source": [
    "print(simpson_model.networkx_graph().edges)"
   ]
  },
  {
   "cell_type": "markdown",
   "id": "a31711e5",
   "metadata": {},
   "source": [
    "If we are not happy with this DAG, we could add some constraints."
   ]
  },
  {
   "cell_type": "markdown",
   "id": "e820dd95",
   "metadata": {},
   "source": [
    "Constraints are encoded using an adjacency matrix where:\n",
    " - 0 indicates that there is no directed edge i → j,\n",
    " - 1 indicates that there has to be a directed edge i → j,\n",
    " - nan indicates that the directed edge i → j is learnable.\n",
    " \n",
    "The following function converts from `tabu_` format into this matrix format, for use with DECI."
   ]
  },
  {
   "cell_type": "code",
   "execution_count": null,
   "id": "7789a160",
   "metadata": {},
   "outputs": [],
   "source": [
    "def make_constraint_matrix(variables, tabu_child_nodes=None,  tabu_parent_nodes=None, tabu_edges=None):\n",
    "    \"\"\"\n",
    "    Makes a DECI constraint matrix from GCastle constraint format.\n",
    "\n",
    "    Arguments:\n",
    "        tabu_child_nodes: Optional[List[str]]\n",
    "            nodes that cannot be children of any other nodes (root nodes)\n",
    "        tabu_parent_nodes: Optional[List[str]]\n",
    "            edges that cannot be the parent of any other node (leaf nodes)\n",
    "        tabu_edge: Optional[List[Tuple[str, str]]]\n",
    "            edges that cannot exist\n",
    "    \"\"\"\n",
    "\n",
    "    constraint = np.full((variables.num_groups, variables.num_groups), np.nan)\n",
    "    name_to_idx = {name: i for (i, name) in enumerate(variables.group_names)}\n",
    "    if tabu_child_nodes is not None:\n",
    "        for node in tabu_child_nodes:\n",
    "            idx = name_to_idx[node]\n",
    "            constraint[:, idx] = 0.0\n",
    "    if tabu_parent_nodes is not None:\n",
    "        for node in tabu_parent_nodes:\n",
    "            idx = name_to_idx[node]\n",
    "            constraint[idx, :] = 0.0\n",
    "    if tabu_edges is not None:\n",
    "        for source, sink in tabu_edges:\n",
    "            source_idx, sink_idx = name_to_idx[source], name_to_idx[sink]\n",
    "            constraint[source_idx, sink_idx] = 0.0\n",
    "    return constraint.astype(np.float32)"
   ]
  },
  {
   "cell_type": "markdown",
   "id": "7c306612",
   "metadata": {},
   "source": [
    "### Adding constraint that a node is not a child\n",
    "Let's suppose that 'Column 0' is not a child of anything (it's a root node)."
   ]
  },
  {
   "cell_type": "code",
   "execution_count": null,
   "id": "ee09e828",
   "metadata": {},
   "outputs": [],
   "source": [
    "training_params['max_auglag_inner_epochs'] = 1000\n",
    "training_params['max_steps_auglag'] = 5"
   ]
  },
  {
   "cell_type": "code",
   "execution_count": null,
   "id": "8e3833e4",
   "metadata": {},
   "outputs": [],
   "source": [
    "constraint = make_constraint_matrix(simpson_data.variables, tabu_child_nodes=['Column 0'])"
   ]
  },
  {
   "cell_type": "code",
   "execution_count": null,
   "id": "4d60af0c",
   "metadata": {},
   "outputs": [],
   "source": [
    "simpson_model = DECI(\"mymodel\", simpson_data.variables, \"mysavedir\", device, **model_config)\n",
    "simpson_model.set_graph_constraint(constraint)"
   ]
  },
  {
   "cell_type": "code",
   "execution_count": null,
   "id": "683740d5",
   "metadata": {},
   "outputs": [],
   "source": [
    "simpson_model.run_train(simpson_data, run_context.metrics_logger, training_params)"
   ]
  },
  {
   "cell_type": "code",
   "execution_count": null,
   "id": "34e44fda",
   "metadata": {},
   "outputs": [],
   "source": [
    "print(simpson_model.networkx_graph().edges)"
   ]
  },
  {
   "cell_type": "markdown",
   "id": "a618ffb7",
   "metadata": {},
   "source": [
    "### Adding constraint that a node is not a parent\n",
    "Suppose we also want to specify that 'Column 3' is not a parent of anything (it's a leaf node)."
   ]
  },
  {
   "cell_type": "code",
   "execution_count": null,
   "id": "106d1c37",
   "metadata": {},
   "outputs": [],
   "source": [
    "constraint = make_constraint_matrix(\n",
    "    simpson_data.variables, tabu_child_nodes=['Column 0'], tabu_parent_nodes=['Column 3']\n",
    ")\n",
    "simpson_model = DECI(\"mymodel\", simpson_data.variables, \"mysavedir\", device, **model_config)\n",
    "simpson_model.set_graph_constraint(constraint)\n",
    "simpson_model.run_train(simpson_data, run_context.metrics_logger, training_params)"
   ]
  },
  {
   "cell_type": "code",
   "execution_count": null,
   "id": "86849696",
   "metadata": {},
   "outputs": [],
   "source": [
    "print(simpson_model.networkx_graph().edges)"
   ]
  },
  {
   "cell_type": "markdown",
   "id": "332f8642",
   "metadata": {},
   "source": [
    "### Adding constraint that an edge doesn't exist\n",
    "Suppose we also want to specify that there is no edge Column 1 to Column 3."
   ]
  },
  {
   "cell_type": "code",
   "execution_count": null,
   "id": "03dcb944",
   "metadata": {},
   "outputs": [],
   "source": [
    "constraint = make_constraint_matrix(\n",
    "    simpson_data.variables, tabu_child_nodes=['Column 0'], tabu_parent_nodes=['Column 3'], \n",
    "    tabu_edges=[('Column 1', 'Column 3')]\n",
    ")\n",
    "simpson_model = DECI(\"mymodel\", simpson_data.variables, \"mysavedir\", device, **model_config)\n",
    "simpson_model.set_graph_constraint(constraint)\n",
    "simpson_model.run_train(simpson_data, run_context.metrics_logger, training_params)"
   ]
  },
  {
   "cell_type": "code",
   "execution_count": null,
   "id": "1067ef2b",
   "metadata": {},
   "outputs": [],
   "source": [
    "print(simpson_model.networkx_graph().edges)"
   ]
  },
  {
   "cell_type": "markdown",
   "id": "8b444342",
   "metadata": {},
   "source": [
    "### Adding a positive constraint\n",
    "It's also possible with DECI to force an edge to exist. For example, suppose we decide to enforce the existence of the egde from Column 1 to Column 3."
   ]
  },
  {
   "cell_type": "code",
   "execution_count": null,
   "id": "2ae97124",
   "metadata": {},
   "outputs": [],
   "source": [
    "constraint[0, 2] = 1.0\n",
    "simpson_model = DECI(\"mymodel\", simpson_data.variables, \"mysavedir\", device, **model_config)\n",
    "simpson_model.set_graph_constraint(constraint)\n",
    "simpson_model.run_train(simpson_data, run_context.metrics_logger, training_params)"
   ]
  },
  {
   "cell_type": "code",
   "execution_count": null,
   "id": "dd55da06",
   "metadata": {},
   "outputs": [],
   "source": [
    "print(simpson_model.networkx_graph().edges)"
   ]
  },
  {
   "cell_type": "code",
   "execution_count": null,
   "id": "70ae351b",
   "metadata": {},
   "outputs": [],
   "source": [
    "print(\"The correct graph is \", [(0, 1), (0, 2), (1, 2), (2, 3)])"
   ]
  },
  {
   "cell_type": "markdown",
   "id": "9bfd6839",
   "metadata": {},
   "source": [
    "## A larger graph example"
   ]
  },
  {
   "cell_type": "code",
   "execution_count": null,
   "id": "72dc41df",
   "metadata": {},
   "outputs": [],
   "source": [
    "large_data = load_data(\"csuite_large_backdoor\", \"./data\", 0, dataset_config, model_config, False, run_context.download_dataset)"
   ]
  },
  {
   "cell_type": "code",
   "execution_count": null,
   "id": "cc92d599",
   "metadata": {},
   "outputs": [],
   "source": [
    "[train_row, train_col] = np.shape(large_data._train_data)"
   ]
  },
  {
   "cell_type": "code",
   "execution_count": null,
   "id": "b8123e36",
   "metadata": {},
   "outputs": [],
   "source": [
    "large_train_data = pd.DataFrame(large_data._train_data, columns=[f\"X{i}\" for i in range(9)])"
   ]
  },
  {
   "cell_type": "code",
   "execution_count": null,
   "id": "cbb001cf",
   "metadata": {},
   "outputs": [],
   "source": [
    "large_train_data.head()"
   ]
  },
  {
   "cell_type": "code",
   "execution_count": null,
   "id": "7930a19f",
   "metadata": {},
   "outputs": [],
   "source": [
    "if train_col < 15:\n",
    "    sns.pairplot(large_train_data)"
   ]
  },
  {
   "cell_type": "code",
   "execution_count": null,
   "id": "eed98cdd",
   "metadata": {},
   "outputs": [],
   "source": [
    "large_model = DECI(\"mymodel\", large_data.variables, \"mysavedir\", device, **model_config)"
   ]
  },
  {
   "cell_type": "code",
   "execution_count": null,
   "id": "59318d6b",
   "metadata": {},
   "outputs": [],
   "source": [
    "training_params['max_steps_auglag'] = 15\n",
    "training_params['max_auglag_inner_epochs'] = 3000\n",
    "large_model.run_train(large_data, run_context.metrics_logger, training_params)"
   ]
  },
  {
   "cell_type": "code",
   "execution_count": null,
   "id": "8cc6046f",
   "metadata": {},
   "outputs": [],
   "source": [
    "large_graph = large_model.networkx_graph()"
   ]
  },
  {
   "cell_type": "code",
   "execution_count": null,
   "id": "30c86893",
   "metadata": {},
   "outputs": [],
   "source": [
    "nx.draw_networkx(large_graph, arrows=True, with_labels=True)"
   ]
  },
  {
   "cell_type": "code",
   "execution_count": null,
   "id": "1969b257",
   "metadata": {},
   "outputs": [],
   "source": [
    "print(\"The true graph is:\")\n",
    "plot_true_graph(large_data)"
   ]
  },
  {
   "cell_type": "code",
   "execution_count": null,
   "id": "2f3ad9fa",
   "metadata": {},
   "outputs": [],
   "source": [
    "import numpy as np\n",
    "\n",
    "### Model-based ATE estimate\n",
    "do_1 = large_model.sample(5000, intervention_idxs=np.array([7]), intervention_values=np.array([2.])).cpu().numpy()\n",
    "do_minus_1 = large_model.sample(5000, intervention_idxs=np.array([7]), intervention_values=np.array([0.])).cpu().numpy()\n",
    "ate_estimate = do_1[:, 8].mean() - do_minus_1[:, 8].mean()\n",
    "print(\"Estimated ATE:\", ate_estimate)"
   ]
  },
  {
   "cell_type": "code",
   "execution_count": null,
   "id": "1215bfd4",
   "metadata": {},
   "outputs": [],
   "source": [
    "### Interventional test data ATE\n",
    "ate_true = large_data._intervention_data[0].test_data[:, 8].mean() - large_data._intervention_data[0].reference_data[:, 8].mean()\n",
    "print(\"Interventional ATE:\", ate_true)"
   ]
  },
  {
   "cell_type": "markdown",
   "id": "04a7a9d9",
   "metadata": {},
   "source": [
    "## Imputation results\n",
    "\n",
    "DECI also learns an imputation network that can be used to fill in missing data."
   ]
  },
  {
   "cell_type": "code",
   "execution_count": null,
   "id": "170b8d4a",
   "metadata": {},
   "outputs": [],
   "source": [
    "def make_missing(data):\n",
    "    missing_data = data.copy()\n",
    "    mask = np.full(missing_data.shape, fill_value=True, dtype=bool)\n",
    "    n_rows, n_cols = data.shape\n",
    "    for row in range(n_rows):\n",
    "        i = np.random.choice(list(range(n_cols)))\n",
    "        missing_data[row, i] = 0.\n",
    "        mask[row, i] = False\n",
    "    return missing_data, mask"
   ]
  },
  {
   "cell_type": "code",
   "execution_count": null,
   "id": "68a23583",
   "metadata": {},
   "outputs": [],
   "source": [
    "data_with_missingness, mask = make_missing(dataset._train_data)"
   ]
  },
  {
   "cell_type": "code",
   "execution_count": null,
   "id": "4420741a",
   "metadata": {},
   "outputs": [],
   "source": [
    "imputed = model.impute(data_with_missingness, mask)"
   ]
  },
  {
   "cell_type": "code",
   "execution_count": null,
   "id": "ce140335",
   "metadata": {},
   "outputs": [],
   "source": [
    "ax = sns.scatterplot(x=dataset._train_data[~mask], y=imputed[~mask])\n",
    "ax.set(xlabel=\"True value\", ylabel=\"Imputed value\")"
   ]
  },
  {
   "cell_type": "markdown",
   "id": "1eef0634",
   "metadata": {},
   "source": [
    "## Analysing the DECI model"
   ]
  },
  {
   "cell_type": "markdown",
   "id": "78de6a26",
   "metadata": {},
   "source": [
    "DECI gives us a simulator of the observational distribution."
   ]
  },
  {
   "cell_type": "code",
   "execution_count": null,
   "id": "dd240314",
   "metadata": {},
   "outputs": [],
   "source": [
    "simulation = pd.DataFrame(model.sample(5000).cpu().numpy(), columns=[\"A\", \"B\"])"
   ]
  },
  {
   "cell_type": "code",
   "execution_count": null,
   "id": "884265d0",
   "metadata": {},
   "outputs": [],
   "source": [
    "sns.scatterplot(train_data[\"A\"], train_data[\"B\"])"
   ]
  },
  {
   "cell_type": "code",
   "execution_count": null,
   "id": "e9a7b5a6",
   "metadata": {},
   "outputs": [],
   "source": [
    "sns.scatterplot(simulation[\"A\"], simulation[\"B\"])"
   ]
  },
  {
   "cell_type": "markdown",
   "id": "62dd6a63",
   "metadata": {},
   "source": [
    "The DECI model also allows us to simulate from interventional distributions."
   ]
  },
  {
   "cell_type": "code",
   "execution_count": null,
   "id": "51b195a3",
   "metadata": {},
   "outputs": [],
   "source": [
    "simulation_intervention = pd.DataFrame(\n",
    "    model.sample(5000, intervention_idxs=np.array([0]), intervention_values=np.array([4.])).cpu().numpy(), \n",
    "    columns=[\"A\", \"B\"]\n",
    ")"
   ]
  },
  {
   "cell_type": "code",
   "execution_count": null,
   "id": "20a697b3",
   "metadata": {},
   "outputs": [],
   "source": [
    "simulation_intervention.min()"
   ]
  },
  {
   "cell_type": "markdown",
   "id": "03b40785",
   "metadata": {},
   "source": [
    "Intervening on A causes a change in the values of B."
   ]
  },
  {
   "cell_type": "code",
   "execution_count": null,
   "id": "8224157e",
   "metadata": {},
   "outputs": [],
   "source": [
    "fig, ax1 = plt.subplots()\n",
    "ax2 = ax1.twinx()\n",
    "sns.kdeplot(simulation_intervention[\"B\"], ax=ax1)\n",
    "sns.kdeplot(train_data[\"B\"].astype(np.float32), ax=ax2, color='r')"
   ]
  },
  {
   "cell_type": "markdown",
   "id": "7fc3ba72",
   "metadata": {},
   "source": [
    "Intervening on B does not cause a change for A."
   ]
  },
  {
   "cell_type": "code",
   "execution_count": null,
   "id": "11344e22",
   "metadata": {},
   "outputs": [],
   "source": [
    "simulation_intervention2 = pd.DataFrame(\n",
    "    model.sample(5000, intervention_idxs=np.array([1]), intervention_values=np.array([1.])).cpu().numpy(), \n",
    "    columns=[\"A\", \"B\"]\n",
    ")"
   ]
  },
  {
   "cell_type": "code",
   "execution_count": null,
   "id": "0302edf7",
   "metadata": {},
   "outputs": [],
   "source": [
    "fig, ax1 = plt.subplots()\n",
    "ax2 = ax1.twinx()\n",
    "sns.kdeplot(simulation_intervention2[\"A\"], ax=ax1)\n",
    "sns.kdeplot(train_data[\"A\"].astype(np.float32), ax=ax2, color='r')"
   ]
  },
  {
   "cell_type": "code",
   "execution_count": null,
   "id": "279887f8",
   "metadata": {},
   "outputs": [],
   "source": []
  }
 ],
 "metadata": {
  "interpreter": {
   "hash": "2fd0a64ad648981ef4b0280c53775d4f8aeceb44a2f0562bd016e7298af01310"
  },
  "kernelspec": {
   "display_name": "Python 3 (ipykernel)",
   "language": "python",
   "name": "python3"
  },
  "language_info": {
   "codemirror_mode": {
    "name": "ipython",
    "version": 3
   },
   "file_extension": ".py",
   "mimetype": "text/x-python",
   "name": "python",
   "nbconvert_exporter": "python",
   "pygments_lexer": "ipython3",
   "version": "3.8.13"
  }
 },
 "nbformat": 4,
 "nbformat_minor": 5
}
