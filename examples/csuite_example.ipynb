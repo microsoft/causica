{
 "cells": [
  {
   "cell_type": "markdown",
   "metadata": {},
   "source": [
    "An example notebook showing how to train a DECI model on [CSuite](https://github.com/microsoft/csuite) Data.\n",
    "\n",
    "This demonstrates how to assemble the various components of the library and how to perform training."
   ]
  },
  {
   "cell_type": "code",
   "execution_count": 1,
   "metadata": {},
   "outputs": [],
   "source": [
    "import os\n",
    "from dataclasses import dataclass\n",
    "\n",
    "import networkx as nx\n",
    "import pytorch_lightning as pl\n",
    "import torch\n",
    "from tensordict import TensorDict\n",
    "from torch.utils.data import DataLoader\n",
    "\n",
    "from causica.datasets.causica_dataset_format import DataEnum, load_data\n",
    "from causica.datasets.tensordict_utils import tensordict_shapes\n",
    "from causica.distributions import (\n",
    "    AdjacencyDistribution,\n",
    "    ContinuousNoiseDist,\n",
    "    DistributionModule,\n",
    "    ENCOAdjacencyDistributionModule,\n",
    "    GibbsDAGPrior,\n",
    "    JointNoiseModule,\n",
    "    SEMDistributionModule,\n",
    "    create_noise_modules,\n",
    ")\n",
    "from causica.functional_relationships import ICGNN\n",
    "from causica.graph.dag_constraint import calculate_dagness\n",
    "from causica.training.auglag import AugLagLossCalculator, AugLagLR, AugLagLRConfig\n",
    "\n",
    "DATASET_PATH = \"https://azuastoragepublic.blob.core.windows.net/datasets\""
   ]
  },
  {
   "cell_type": "markdown",
   "metadata": {},
   "source": [
    "Define various parameters of the training process."
   ]
  },
  {
   "cell_type": "code",
   "execution_count": 2,
   "metadata": {},
   "outputs": [
    {
     "name": "stderr",
     "output_type": "stream",
     "text": [
      "Global seed set to 1\n"
     ]
    }
   ],
   "source": [
    "@dataclass(frozen=True)\n",
    "class TrainingConfig:\n",
    "    noise_dist: ContinuousNoiseDist = ContinuousNoiseDist.SPLINE\n",
    "    batch_size: int = 128\n",
    "    max_epoch: int = int(os.environ.get(\"MAX_EPOCH\", 2000))  # used by testing to run the notebook as a script\n",
    "    gumbel_temp: float = 0.25\n",
    "    averaging_period: int = 10\n",
    "    prior_sparsity_lambda: float = 5.0\n",
    "    init_rho: float = 1.0\n",
    "    init_alpha: float = 0.0\n",
    "\n",
    "\n",
    "training_config = TrainingConfig()\n",
    "auglag_config = AugLagLRConfig()\n",
    "seed = 1\n",
    "dataset = \"csuite_nonlin_simpson\"\n",
    "\n",
    "pl.seed_everything(seed)  # set the random seed\n",
    "device = \"cuda\" if torch.cuda.is_available() else \"cpu\""
   ]
  },
  {
   "cell_type": "markdown",
   "metadata": {},
   "source": [
    "We now download the dataset from Azure Blob storage.\n",
    "\n",
    "The Causica repo makes heavy use of [TensorDict](https://pytorch.org/rl/tensordict/reference/generated/tensordict.TensorDict.html). A dataset is assumed to be a TensorDict, with each key containing the data associated with a given node.\n",
    "\n",
    "The `variables_metadata` object stored with the CSuite data also describes the type of each node, which we will need when we create the Noise Distributions for each node."
   ]
  },
  {
   "cell_type": "code",
   "execution_count": 3,
   "metadata": {},
   "outputs": [],
   "source": [
    "root_path = os.path.join(DATASET_PATH, dataset)\n",
    "variables_metadata = load_data(root_path, DataEnum.VARIABLES_JSON)\n",
    "dataset_train: TensorDict = load_data(root_path, DataEnum.TRAIN, variables_metadata)\n",
    "# move the entire dataset to the device, since it is small\n",
    "dataset_train = dataset_train.apply(lambda t: t.to(dtype=torch.float32, device=device))\n",
    "\n",
    "dataloader_train = DataLoader(\n",
    "    dataset=dataset_train,\n",
    "    collate_fn=lambda x: x,\n",
    "    batch_size=training_config.batch_size,\n",
    "    shuffle=True,\n",
    "    drop_last=False,\n",
    ")"
   ]
  },
  {
   "cell_type": "markdown",
   "metadata": {},
   "source": [
    "Create a prior distribution over DAGs."
   ]
  },
  {
   "cell_type": "code",
   "execution_count": 4,
   "metadata": {},
   "outputs": [],
   "source": [
    "num_nodes = len(dataset_train.keys())\n",
    "\n",
    "prior = GibbsDAGPrior(num_nodes=num_nodes, sparsity_lambda=training_config.prior_sparsity_lambda)"
   ]
  },
  {
   "cell_type": "markdown",
   "metadata": {},
   "source": [
    "Create the Variational Posterior Distribution over Adjacency Matrices, which we will optimize."
   ]
  },
  {
   "cell_type": "code",
   "execution_count": 5,
   "metadata": {},
   "outputs": [],
   "source": [
    "adjacency_dist: DistributionModule[AdjacencyDistribution] = ENCOAdjacencyDistributionModule(num_nodes)"
   ]
  },
  {
   "cell_type": "markdown",
   "metadata": {},
   "source": [
    "Create the Graph Neural network that will estimate the functional relationships. More info can be found [here](https://openreview.net/forum?id=S2pNPZM-w-f)."
   ]
  },
  {
   "cell_type": "code",
   "execution_count": 6,
   "metadata": {},
   "outputs": [],
   "source": [
    "icgnn = ICGNN(\n",
    "    variables=tensordict_shapes(dataset_train),\n",
    "    embedding_size=32,\n",
    "    out_dim_g=32,\n",
    "    norm_layer=torch.nn.LayerNorm,\n",
    "    res_connection=True,\n",
    ")"
   ]
  },
  {
   "cell_type": "markdown",
   "metadata": {},
   "source": [
    "Create the Noise Distributions for each node using the definitions in `variables_metadata`."
   ]
  },
  {
   "cell_type": "code",
   "execution_count": 7,
   "metadata": {},
   "outputs": [],
   "source": [
    "variable_shapes = tensordict_shapes(dataset_train)\n",
    "\n",
    "types_dict = {var[\"group_name\"]: var[\"type\"] for var in variables_metadata[\"variables\"]}\n",
    "\n",
    "noise_submodules = create_noise_modules(variable_shapes, types_dict, training_config.noise_dist)\n",
    "noise_module = JointNoiseModule(noise_submodules)"
   ]
  },
  {
   "cell_type": "markdown",
   "metadata": {},
   "source": [
    "Create the SEM Module which combines the variational adjacency distribution, the functional relationships and the noise distributions for each node."
   ]
  },
  {
   "cell_type": "code",
   "execution_count": 8,
   "metadata": {},
   "outputs": [],
   "source": [
    "sem_module: SEMDistributionModule = SEMDistributionModule(adjacency_dist, icgnn, noise_module)\n",
    "\n",
    "sem_module.to(device);"
   ]
  },
  {
   "cell_type": "markdown",
   "metadata": {},
   "source": [
    "Create the optimizer, with separate learning rates for each module."
   ]
  },
  {
   "cell_type": "code",
   "execution_count": 9,
   "metadata": {},
   "outputs": [],
   "source": [
    "modules = {\n",
    "    \"icgnn\": sem_module.functional_relationships,\n",
    "    \"vardist\": sem_module.adjacency_module,\n",
    "    \"noise_dist\": sem_module.noise_module,\n",
    "}\n",
    "parameter_list = [\n",
    "    {\"params\": module.parameters(), \"lr\": auglag_config.lr_init_dict[name], \"name\": name}\n",
    "    for name, module in modules.items()\n",
    "]\n",
    "\n",
    "optimizer = torch.optim.Adam(parameter_list)"
   ]
  },
  {
   "cell_type": "markdown",
   "metadata": {},
   "source": [
    "Define the [Augmented Lagrangian Scheduler](https://en.wikipedia.org/wiki/Augmented_Lagrangian_method).\n",
    "\n",
    "This allows DECI to optimize towards a DAG, by slowly increasing the alpha and rho parameters as the optimization takes place"
   ]
  },
  {
   "cell_type": "code",
   "execution_count": 10,
   "metadata": {},
   "outputs": [],
   "source": [
    "scheduler = AugLagLR(config=auglag_config)\n",
    "auglag_loss = AugLagLossCalculator(init_alpha=training_config.init_alpha, init_rho=training_config.init_rho)"
   ]
  },
  {
   "cell_type": "markdown",
   "metadata": {},
   "source": [
    "The main training loop.\n",
    "\n",
    "For each batch, we:\n",
    "* Sample a graph from the SEM.\n",
    "* Calculate the log probability of that batch, given the graph.\n",
    "* Create the ELBO to be optimized.\n",
    "* Calculate the DAG constraint\n",
    "* Combine the DAG constraint with the ELBO to get the loss."
   ]
  },
  {
   "cell_type": "code",
   "execution_count": 11,
   "metadata": {},
   "outputs": [
    {
     "name": "stderr",
     "output_type": "stream",
     "text": [
      "/home/joel/.cache/pypoetry/virtualenvs/causica-internal-E39znP0s-py3.8/lib/python3.8/site-packages/torch/distributions/distribution.py:45: UserWarning: <class 'causica.distributions.noise.joint.JointNoise'> does not define `arg_constraints`. Please set `arg_constraints = {}` or initialize the distribution with `validate_args=False` to turn off validation.\n",
      "  warnings.warn(f'{self.__class__} does not define `arg_constraints`. ' +\n"
     ]
    },
    {
     "name": "stdout",
     "output_type": "stream",
     "text": [
      "epoch:0 loss:7.0666 nll:7.0575 dagness:1.08616 num_edges:5 alpha:0 rho:1 step:0|1 num_lr_updates:0\n",
      "epoch:10 loss:1.8787 nll:1.8676 dagness:0.00000 num_edges:5 alpha:0 rho:1 step:0|161 num_lr_updates:0\n",
      "epoch:20 loss:1.1229 nll:1.1088 dagness:0.50418 num_edges:6 alpha:0 rho:1 step:0|321 num_lr_updates:0\n",
      "epoch:30 loss:1.0539 nll:1.0448 dagness:0.00000 num_edges:4 alpha:0 rho:1 step:0|481 num_lr_updates:0\n",
      "epoch:40 loss:1.8009 nll:1.7915 dagness:0.00000 num_edges:4 alpha:0 rho:1 step:0|641 num_lr_updates:0\n",
      "epoch:50 loss:1.8899 nll:1.878 dagness:0.00000 num_edges:5 alpha:0 rho:1 step:0|801 num_lr_updates:1\n",
      "Updating alpha to: 0.0\n",
      "epoch:60 loss:1.453 nll:1.4412 dagness:0.00000 num_edges:5 alpha:0 rho:1 step:1|23 num_lr_updates:0\n",
      "epoch:70 loss:1.5669 nll:1.5572 dagness:0.00000 num_edges:4 alpha:0 rho:1 step:1|183 num_lr_updates:0\n",
      "epoch:80 loss:1.605 nll:1.5928 dagness:0.00000 num_edges:5 alpha:0 rho:1 step:1|343 num_lr_updates:0\n",
      "epoch:90 loss:1.6326 nll:1.6228 dagness:0.00000 num_edges:4 alpha:0 rho:1 step:1|503 num_lr_updates:0\n",
      "epoch:100 loss:1.8064 nll:1.7968 dagness:0.00000 num_edges:4 alpha:0 rho:1 step:1|663 num_lr_updates:0\n",
      "epoch:110 loss:3.2911 nll:3.2814 dagness:0.00000 num_edges:4 alpha:0 rho:1 step:1|823 num_lr_updates:0\n",
      "epoch:120 loss:2.3284 nll:2.3186 dagness:0.00000 num_edges:4 alpha:0 rho:1 step:1|983 num_lr_updates:1\n",
      "epoch:130 loss:2.528 nll:2.5182 dagness:0.00000 num_edges:4 alpha:0 rho:1 step:1|1143 num_lr_updates:1\n",
      "Updating alpha to: 0.0\n",
      "epoch:140 loss:2.2907 nll:2.2811 dagness:0.00000 num_edges:4 alpha:0 rho:1 step:2|81 num_lr_updates:0\n",
      "epoch:150 loss:3.2521 nll:3.24 dagness:0.00000 num_edges:5 alpha:0 rho:1 step:2|241 num_lr_updates:0\n",
      "epoch:160 loss:2.7455 nll:2.7358 dagness:0.00000 num_edges:4 alpha:0 rho:1 step:2|401 num_lr_updates:0\n",
      "epoch:170 loss:2.6453 nll:2.6356 dagness:0.00000 num_edges:4 alpha:0 rho:1 step:2|561 num_lr_updates:1\n",
      "Updating alpha to: 0.0\n",
      "epoch:180 loss:2.6657 nll:2.656 dagness:0.00000 num_edges:4 alpha:0 rho:1 step:3|150 num_lr_updates:0\n",
      "epoch:190 loss:2.3219 nll:2.3121 dagness:0.00000 num_edges:4 alpha:0 rho:1 step:3|310 num_lr_updates:0\n",
      "epoch:200 loss:2.6876 nll:2.6777 dagness:0.00000 num_edges:4 alpha:0 rho:1 step:3|470 num_lr_updates:0\n",
      "epoch:210 loss:2.7428 nll:2.7329 dagness:0.00000 num_edges:4 alpha:0 rho:1 step:3|630 num_lr_updates:1\n",
      "Updating alpha to: 0.0\n",
      "epoch:220 loss:2.4358 nll:2.4259 dagness:0.00000 num_edges:4 alpha:0 rho:1 step:4|131 num_lr_updates:0\n",
      "epoch:230 loss:2.7663 nll:2.754 dagness:0.00000 num_edges:5 alpha:0 rho:1 step:4|291 num_lr_updates:0\n",
      "epoch:240 loss:2.7367 nll:2.7271 dagness:0.00000 num_edges:4 alpha:0 rho:1 step:4|451 num_lr_updates:0\n",
      "epoch:250 loss:2.6815 nll:2.6718 dagness:0.00000 num_edges:4 alpha:0 rho:1 step:4|611 num_lr_updates:1\n",
      "epoch:260 loss:2.4212 nll:2.409 dagness:0.00000 num_edges:5 alpha:0 rho:1 step:4|771 num_lr_updates:1\n",
      "epoch:270 loss:2.4044 nll:2.3922 dagness:0.00000 num_edges:5 alpha:0 rho:1 step:4|931 num_lr_updates:1\n",
      "epoch:280 loss:2.5659 nll:2.5562 dagness:0.00000 num_edges:4 alpha:0 rho:1 step:4|1091 num_lr_updates:2\n",
      "epoch:290 loss:2.6539 nll:2.6442 dagness:0.00000 num_edges:4 alpha:0 rho:1 step:4|1251 num_lr_updates:2\n",
      "epoch:300 loss:2.8798 nll:2.8701 dagness:0.00000 num_edges:4 alpha:0 rho:1 step:4|1411 num_lr_updates:2\n",
      "Updating alpha to: 0.0\n",
      "epoch:310 loss:3.663 nll:3.6508 dagness:0.00000 num_edges:5 alpha:0 rho:1 step:5|70 num_lr_updates:0\n",
      "epoch:320 loss:2.9153 nll:2.9055 dagness:0.00000 num_edges:4 alpha:0 rho:1 step:5|230 num_lr_updates:0\n",
      "epoch:330 loss:3.2 nll:3.1878 dagness:0.00000 num_edges:5 alpha:0 rho:1 step:5|390 num_lr_updates:0\n",
      "epoch:340 loss:2.8881 nll:2.8783 dagness:0.00000 num_edges:4 alpha:0 rho:1 step:5|550 num_lr_updates:1\n",
      "epoch:350 loss:2.9219 nll:2.9122 dagness:0.00000 num_edges:4 alpha:0 rho:1 step:5|710 num_lr_updates:1\n",
      "epoch:360 loss:3.0444 nll:3.0346 dagness:0.00000 num_edges:4 alpha:0 rho:1 step:5|870 num_lr_updates:1\n",
      "epoch:370 loss:3.0787 nll:3.0689 dagness:0.00000 num_edges:4 alpha:0 rho:1 step:5|1030 num_lr_updates:1\n",
      "epoch:380 loss:2.8592 nll:2.8494 dagness:0.00000 num_edges:4 alpha:0 rho:1 step:5|1190 num_lr_updates:1\n",
      "epoch:390 loss:3.0489 nll:3.0391 dagness:0.00000 num_edges:4 alpha:0 rho:1 step:5|1350 num_lr_updates:1\n",
      "epoch:400 loss:3.0474 nll:3.0376 dagness:0.00000 num_edges:4 alpha:0 rho:1 step:5|1510 num_lr_updates:1\n",
      "epoch:410 loss:2.8672 nll:2.8574 dagness:0.00000 num_edges:4 alpha:0 rho:1 step:5|1670 num_lr_updates:1\n",
      "epoch:420 loss:2.9645 nll:2.9547 dagness:0.00000 num_edges:4 alpha:0 rho:1 step:5|1830 num_lr_updates:1\n",
      "epoch:430 loss:2.9195 nll:2.9073 dagness:0.00000 num_edges:5 alpha:0 rho:1 step:5|1990 num_lr_updates:1\n",
      "epoch:440 loss:2.8379 nll:2.8281 dagness:0.00000 num_edges:4 alpha:0 rho:1 step:5|2150 num_lr_updates:1\n",
      "epoch:450 loss:3.1395 nll:3.1297 dagness:0.00000 num_edges:4 alpha:0 rho:1 step:5|2310 num_lr_updates:1\n",
      "epoch:460 loss:2.8557 nll:2.8459 dagness:0.00000 num_edges:4 alpha:0 rho:1 step:5|2470 num_lr_updates:1\n",
      "epoch:470 loss:3.2048 nll:3.1925 dagness:0.00000 num_edges:5 alpha:0 rho:1 step:5|2630 num_lr_updates:1\n",
      "epoch:480 loss:2.7886 nll:2.7788 dagness:0.00000 num_edges:4 alpha:0 rho:1 step:5|2790 num_lr_updates:1\n",
      "epoch:490 loss:2.7818 nll:2.772 dagness:0.00000 num_edges:4 alpha:0 rho:1 step:5|2950 num_lr_updates:1\n",
      "epoch:500 loss:2.9354 nll:2.9256 dagness:0.00000 num_edges:4 alpha:0 rho:1 step:5|3110 num_lr_updates:1\n",
      "epoch:510 loss:2.83 nll:2.8202 dagness:0.00000 num_edges:4 alpha:0 rho:1 step:5|3270 num_lr_updates:1\n",
      "epoch:520 loss:2.9351 nll:2.9253 dagness:0.00000 num_edges:4 alpha:0 rho:1 step:5|3430 num_lr_updates:1\n",
      "epoch:530 loss:3.0265 nll:3.0167 dagness:0.00000 num_edges:4 alpha:0 rho:1 step:5|3590 num_lr_updates:1\n",
      "epoch:540 loss:2.9777 nll:2.9679 dagness:0.00000 num_edges:4 alpha:0 rho:1 step:5|3750 num_lr_updates:1\n",
      "epoch:550 loss:2.8875 nll:2.8777 dagness:0.00000 num_edges:4 alpha:0 rho:1 step:5|3910 num_lr_updates:1\n",
      "epoch:560 loss:2.8449 nll:2.8351 dagness:0.00000 num_edges:4 alpha:0 rho:1 step:5|4070 num_lr_updates:1\n",
      "epoch:570 loss:2.9814 nll:2.9691 dagness:0.00000 num_edges:5 alpha:0 rho:1 step:5|4230 num_lr_updates:1\n",
      "epoch:580 loss:3.1165 nll:3.1067 dagness:0.00000 num_edges:4 alpha:0 rho:1 step:5|4390 num_lr_updates:1\n",
      "epoch:590 loss:3.0021 nll:2.9923 dagness:0.00000 num_edges:4 alpha:0 rho:1 step:5|4550 num_lr_updates:1\n",
      "epoch:600 loss:2.9599 nll:2.9476 dagness:0.00000 num_edges:5 alpha:0 rho:1 step:5|4710 num_lr_updates:1\n",
      "epoch:610 loss:2.8467 nll:2.837 dagness:0.00000 num_edges:4 alpha:0 rho:1 step:5|4870 num_lr_updates:1\n",
      "epoch:620 loss:3.031 nll:3.0213 dagness:0.00000 num_edges:4 alpha:0 rho:1 step:5|5030 num_lr_updates:1\n",
      "epoch:630 loss:2.9152 nll:2.903 dagness:0.00000 num_edges:5 alpha:0 rho:1 step:5|5190 num_lr_updates:1\n",
      "epoch:640 loss:2.9338 nll:2.9241 dagness:0.00000 num_edges:4 alpha:0 rho:1 step:5|5350 num_lr_updates:1\n",
      "epoch:650 loss:2.928 nll:2.9183 dagness:0.00000 num_edges:4 alpha:0 rho:1 step:5|5510 num_lr_updates:1\n",
      "epoch:660 loss:2.9532 nll:2.9435 dagness:0.00000 num_edges:4 alpha:0 rho:1 step:5|5670 num_lr_updates:1\n",
      "epoch:670 loss:2.9749 nll:2.9652 dagness:0.00000 num_edges:4 alpha:0 rho:1 step:5|5830 num_lr_updates:1\n",
      "epoch:680 loss:3.0472 nll:3.035 dagness:0.00000 num_edges:5 alpha:0 rho:1 step:5|5990 num_lr_updates:1\n",
      "epoch:690 loss:2.9768 nll:2.9671 dagness:0.00000 num_edges:4 alpha:0 rho:1 step:5|6150 num_lr_updates:1\n",
      "epoch:700 loss:2.9487 nll:2.939 dagness:0.00000 num_edges:4 alpha:0 rho:1 step:5|6310 num_lr_updates:1\n",
      "epoch:710 loss:2.9899 nll:2.9802 dagness:0.00000 num_edges:4 alpha:0 rho:1 step:5|6470 num_lr_updates:1\n",
      "epoch:720 loss:3.1513 nll:3.1416 dagness:0.00000 num_edges:4 alpha:0 rho:1 step:5|6630 num_lr_updates:1\n",
      "epoch:730 loss:3.0946 nll:3.0849 dagness:0.00000 num_edges:4 alpha:0 rho:1 step:5|6790 num_lr_updates:1\n",
      "epoch:740 loss:3.0609 nll:3.0512 dagness:0.00000 num_edges:4 alpha:0 rho:1 step:5|6950 num_lr_updates:1\n",
      "epoch:750 loss:2.9666 nll:2.9569 dagness:0.00000 num_edges:4 alpha:0 rho:1 step:5|7110 num_lr_updates:1\n",
      "epoch:760 loss:3.0605 nll:3.0482 dagness:0.00000 num_edges:5 alpha:0 rho:1 step:5|7270 num_lr_updates:1\n",
      "epoch:770 loss:3.189 nll:3.1767 dagness:0.00000 num_edges:5 alpha:0 rho:1 step:5|7430 num_lr_updates:1\n",
      "epoch:780 loss:2.911 nll:2.9012 dagness:0.00000 num_edges:4 alpha:0 rho:1 step:5|7590 num_lr_updates:1\n"
     ]
    },
    {
     "name": "stdout",
     "output_type": "stream",
     "text": [
      "epoch:790 loss:2.7551 nll:2.7453 dagness:0.00000 num_edges:4 alpha:0 rho:1 step:5|7750 num_lr_updates:1\n",
      "epoch:800 loss:2.8587 nll:2.8489 dagness:0.00000 num_edges:4 alpha:0 rho:1 step:5|7910 num_lr_updates:1\n",
      "epoch:810 loss:2.9335 nll:2.9212 dagness:0.00000 num_edges:5 alpha:0 rho:1 step:5|8070 num_lr_updates:1\n",
      "epoch:820 loss:2.958 nll:2.9482 dagness:0.00000 num_edges:4 alpha:0 rho:1 step:5|8230 num_lr_updates:1\n",
      "epoch:830 loss:2.8614 nll:2.8516 dagness:0.00000 num_edges:4 alpha:0 rho:1 step:5|8390 num_lr_updates:1\n",
      "epoch:840 loss:3.0381 nll:3.0282 dagness:0.00000 num_edges:4 alpha:0 rho:1 step:5|8550 num_lr_updates:1\n",
      "epoch:850 loss:2.9227 nll:2.9129 dagness:0.00000 num_edges:4 alpha:0 rho:1 step:5|8710 num_lr_updates:1\n",
      "epoch:860 loss:2.979 nll:2.9691 dagness:0.00000 num_edges:4 alpha:0 rho:1 step:5|8870 num_lr_updates:1\n",
      "epoch:870 loss:2.8232 nll:2.8134 dagness:0.00000 num_edges:4 alpha:0 rho:1 step:5|9030 num_lr_updates:1\n",
      "epoch:880 loss:2.9337 nll:2.9239 dagness:0.00000 num_edges:4 alpha:0 rho:1 step:5|9190 num_lr_updates:1\n",
      "epoch:890 loss:2.9369 nll:2.9271 dagness:0.00000 num_edges:4 alpha:0 rho:1 step:5|9350 num_lr_updates:1\n",
      "epoch:900 loss:3.0556 nll:3.0457 dagness:0.00000 num_edges:4 alpha:0 rho:1 step:5|9510 num_lr_updates:1\n",
      "epoch:910 loss:3.012 nll:3.0022 dagness:0.00000 num_edges:4 alpha:0 rho:1 step:5|9670 num_lr_updates:1\n",
      "epoch:920 loss:3.006 nll:2.9962 dagness:0.00000 num_edges:4 alpha:0 rho:1 step:5|9830 num_lr_updates:1\n",
      "epoch:930 loss:2.6548 nll:2.6449 dagness:0.00000 num_edges:4 alpha:0 rho:1 step:5|9990 num_lr_updates:1\n",
      "epoch:940 loss:3.1287 nll:3.1189 dagness:0.00000 num_edges:4 alpha:0 rho:1 step:5|10150 num_lr_updates:1\n",
      "epoch:950 loss:2.9498 nll:2.94 dagness:0.00000 num_edges:4 alpha:0 rho:1 step:5|10310 num_lr_updates:1\n",
      "epoch:960 loss:2.9849 nll:2.9726 dagness:0.00000 num_edges:5 alpha:0 rho:1 step:5|10470 num_lr_updates:1\n",
      "epoch:970 loss:3.0725 nll:3.0627 dagness:0.00000 num_edges:4 alpha:0 rho:1 step:5|10630 num_lr_updates:1\n",
      "epoch:980 loss:3.1261 nll:3.1162 dagness:0.00000 num_edges:4 alpha:0 rho:1 step:5|10790 num_lr_updates:1\n",
      "epoch:990 loss:2.9804 nll:2.968 dagness:0.00000 num_edges:5 alpha:0 rho:1 step:5|10950 num_lr_updates:1\n",
      "epoch:1000 loss:2.9436 nll:2.9338 dagness:0.00000 num_edges:4 alpha:0 rho:1 step:5|11110 num_lr_updates:1\n",
      "epoch:1010 loss:2.8956 nll:2.8858 dagness:0.00000 num_edges:4 alpha:0 rho:1 step:5|11270 num_lr_updates:1\n",
      "epoch:1020 loss:2.8626 nll:2.8528 dagness:0.00000 num_edges:4 alpha:0 rho:1 step:5|11430 num_lr_updates:1\n",
      "epoch:1030 loss:2.8209 nll:2.8111 dagness:0.00000 num_edges:4 alpha:0 rho:1 step:5|11590 num_lr_updates:1\n",
      "epoch:1040 loss:2.8658 nll:2.856 dagness:0.00000 num_edges:4 alpha:0 rho:1 step:5|11750 num_lr_updates:1\n",
      "epoch:1050 loss:2.9634 nll:2.9536 dagness:0.00000 num_edges:4 alpha:0 rho:1 step:5|11910 num_lr_updates:1\n",
      "epoch:1060 loss:2.9952 nll:2.9854 dagness:0.00000 num_edges:4 alpha:0 rho:1 step:5|12070 num_lr_updates:1\n",
      "epoch:1070 loss:3.063 nll:3.0532 dagness:0.00000 num_edges:4 alpha:0 rho:1 step:5|12230 num_lr_updates:1\n",
      "epoch:1080 loss:2.9488 nll:2.939 dagness:0.00000 num_edges:4 alpha:0 rho:1 step:5|12390 num_lr_updates:1\n",
      "epoch:1090 loss:2.7299 nll:2.7201 dagness:0.00000 num_edges:4 alpha:0 rho:1 step:5|12550 num_lr_updates:1\n",
      "epoch:1100 loss:3.2395 nll:3.2296 dagness:0.00000 num_edges:4 alpha:0 rho:1 step:5|12710 num_lr_updates:1\n",
      "epoch:1110 loss:3.2394 nll:3.2296 dagness:0.00000 num_edges:4 alpha:0 rho:1 step:5|12870 num_lr_updates:1\n",
      "epoch:1120 loss:2.9613 nll:2.9515 dagness:0.00000 num_edges:4 alpha:0 rho:1 step:5|13030 num_lr_updates:1\n",
      "epoch:1130 loss:3.0487 nll:3.0364 dagness:0.00000 num_edges:5 alpha:0 rho:1 step:5|13190 num_lr_updates:1\n",
      "epoch:1140 loss:2.7114 nll:2.7016 dagness:0.00000 num_edges:4 alpha:0 rho:1 step:5|13350 num_lr_updates:1\n",
      "epoch:1150 loss:2.9863 nll:2.9765 dagness:0.00000 num_edges:4 alpha:0 rho:1 step:5|13510 num_lr_updates:1\n",
      "epoch:1160 loss:2.8742 nll:2.8644 dagness:0.00000 num_edges:4 alpha:0 rho:1 step:5|13670 num_lr_updates:1\n",
      "epoch:1170 loss:3.0337 nll:3.0239 dagness:0.00000 num_edges:4 alpha:0 rho:1 step:5|13830 num_lr_updates:1\n",
      "epoch:1180 loss:2.7423 nll:2.7326 dagness:0.00000 num_edges:4 alpha:0 rho:1 step:5|13990 num_lr_updates:1\n",
      "epoch:1190 loss:3.0625 nll:3.0527 dagness:0.00000 num_edges:4 alpha:0 rho:1 step:5|14150 num_lr_updates:1\n",
      "epoch:1200 loss:2.7554 nll:2.7457 dagness:0.00000 num_edges:4 alpha:0 rho:1 step:5|14310 num_lr_updates:1\n",
      "epoch:1210 loss:3.0022 nll:2.9924 dagness:0.00000 num_edges:4 alpha:0 rho:1 step:5|14470 num_lr_updates:1\n",
      "epoch:1220 loss:3.0218 nll:3.012 dagness:0.00000 num_edges:4 alpha:0 rho:1 step:5|14630 num_lr_updates:1\n",
      "epoch:1230 loss:2.9086 nll:2.8989 dagness:0.00000 num_edges:4 alpha:0 rho:1 step:5|14790 num_lr_updates:1\n",
      "epoch:1240 loss:2.9639 nll:2.9541 dagness:0.00000 num_edges:4 alpha:0 rho:1 step:5|14950 num_lr_updates:1\n",
      "epoch:1250 loss:2.8892 nll:2.877 dagness:0.00000 num_edges:5 alpha:0 rho:1 step:5|15110 num_lr_updates:1\n",
      "epoch:1260 loss:2.9226 nll:2.9129 dagness:0.00000 num_edges:4 alpha:0 rho:1 step:5|15270 num_lr_updates:1\n",
      "epoch:1270 loss:3.0451 nll:3.0354 dagness:0.00000 num_edges:4 alpha:0 rho:1 step:5|15430 num_lr_updates:1\n",
      "epoch:1280 loss:3.189 nll:3.1793 dagness:0.00000 num_edges:4 alpha:0 rho:1 step:5|15590 num_lr_updates:1\n",
      "epoch:1290 loss:2.6109 nll:2.6012 dagness:0.00000 num_edges:4 alpha:0 rho:1 step:5|15750 num_lr_updates:1\n",
      "epoch:1300 loss:3.0214 nll:3.0116 dagness:0.00000 num_edges:4 alpha:0 rho:1 step:5|15910 num_lr_updates:1\n",
      "epoch:1310 loss:2.7044 nll:2.6947 dagness:0.00000 num_edges:4 alpha:0 rho:1 step:5|16070 num_lr_updates:1\n",
      "epoch:1320 loss:3.0161 nll:3.0063 dagness:0.00000 num_edges:4 alpha:0 rho:1 step:5|16230 num_lr_updates:1\n",
      "epoch:1330 loss:2.974 nll:2.9643 dagness:0.00000 num_edges:4 alpha:0 rho:1 step:5|16390 num_lr_updates:1\n",
      "epoch:1340 loss:3.096 nll:3.0863 dagness:0.00000 num_edges:4 alpha:0 rho:1 step:5|16550 num_lr_updates:1\n",
      "epoch:1350 loss:3.1791 nll:3.1694 dagness:0.00000 num_edges:4 alpha:0 rho:1 step:5|16710 num_lr_updates:1\n",
      "epoch:1360 loss:2.9166 nll:2.9069 dagness:0.00000 num_edges:4 alpha:0 rho:1 step:5|16870 num_lr_updates:1\n",
      "epoch:1370 loss:2.7716 nll:2.7619 dagness:0.00000 num_edges:4 alpha:0 rho:1 step:5|17030 num_lr_updates:1\n",
      "epoch:1380 loss:2.9378 nll:2.9281 dagness:0.00000 num_edges:4 alpha:0 rho:1 step:5|17190 num_lr_updates:1\n",
      "epoch:1390 loss:2.9049 nll:2.8927 dagness:0.00000 num_edges:5 alpha:0 rho:1 step:5|17350 num_lr_updates:1\n",
      "epoch:1400 loss:3.0546 nll:3.0448 dagness:0.00000 num_edges:4 alpha:0 rho:1 step:5|17510 num_lr_updates:1\n",
      "epoch:1410 loss:2.8122 nll:2.8 dagness:0.00000 num_edges:5 alpha:0 rho:1 step:5|17670 num_lr_updates:1\n",
      "epoch:1420 loss:2.6678 nll:2.6555 dagness:0.00000 num_edges:5 alpha:0 rho:1 step:5|17830 num_lr_updates:1\n",
      "epoch:1430 loss:2.9797 nll:2.9699 dagness:0.00000 num_edges:4 alpha:0 rho:1 step:5|17990 num_lr_updates:1\n",
      "epoch:1440 loss:2.6992 nll:2.687 dagness:0.00000 num_edges:5 alpha:0 rho:1 step:5|18150 num_lr_updates:1\n",
      "epoch:1450 loss:2.907 nll:2.8972 dagness:0.00000 num_edges:4 alpha:0 rho:1 step:5|18310 num_lr_updates:1\n",
      "epoch:1460 loss:2.9512 nll:2.939 dagness:0.00000 num_edges:5 alpha:0 rho:1 step:5|18470 num_lr_updates:1\n",
      "epoch:1470 loss:2.7657 nll:2.756 dagness:0.00000 num_edges:4 alpha:0 rho:1 step:5|18630 num_lr_updates:1\n",
      "epoch:1480 loss:2.9439 nll:2.9342 dagness:0.00000 num_edges:4 alpha:0 rho:1 step:5|18790 num_lr_updates:1\n",
      "epoch:1490 loss:2.6856 nll:2.6759 dagness:0.00000 num_edges:4 alpha:0 rho:1 step:5|18950 num_lr_updates:1\n",
      "epoch:1500 loss:2.8348 nll:2.8251 dagness:0.00000 num_edges:4 alpha:0 rho:1 step:5|19110 num_lr_updates:1\n",
      "epoch:1510 loss:2.8923 nll:2.8826 dagness:0.00000 num_edges:4 alpha:0 rho:1 step:5|19270 num_lr_updates:1\n",
      "epoch:1520 loss:2.8678 nll:2.8557 dagness:0.00000 num_edges:5 alpha:0 rho:1 step:5|19430 num_lr_updates:1\n",
      "epoch:1530 loss:3.1965 nll:3.1844 dagness:0.00000 num_edges:5 alpha:0 rho:1 step:5|19590 num_lr_updates:1\n",
      "epoch:1540 loss:3.0293 nll:3.0198 dagness:0.00000 num_edges:4 alpha:0 rho:1 step:5|19750 num_lr_updates:1\n",
      "epoch:1550 loss:2.8893 nll:2.8797 dagness:0.00000 num_edges:4 alpha:0 rho:1 step:5|19910 num_lr_updates:1\n",
      "epoch:1560 loss:2.8964 nll:2.8868 dagness:0.00000 num_edges:4 alpha:0 rho:1 step:5|20070 num_lr_updates:1\n"
     ]
    },
    {
     "name": "stdout",
     "output_type": "stream",
     "text": [
      "epoch:1570 loss:2.8619 nll:2.8523 dagness:0.00000 num_edges:4 alpha:0 rho:1 step:5|20230 num_lr_updates:1\n",
      "epoch:1580 loss:2.8557 nll:2.8437 dagness:0.00000 num_edges:5 alpha:0 rho:1 step:5|20390 num_lr_updates:1\n",
      "epoch:1590 loss:2.7916 nll:2.7821 dagness:0.00000 num_edges:4 alpha:0 rho:1 step:5|20550 num_lr_updates:1\n",
      "epoch:1600 loss:2.8361 nll:2.8266 dagness:0.00000 num_edges:4 alpha:0 rho:1 step:5|20710 num_lr_updates:1\n",
      "epoch:1610 loss:2.6683 nll:2.6588 dagness:0.00000 num_edges:4 alpha:0 rho:1 step:5|20870 num_lr_updates:1\n",
      "epoch:1620 loss:2.8917 nll:2.8822 dagness:0.00000 num_edges:4 alpha:0 rho:1 step:5|21030 num_lr_updates:1\n",
      "epoch:1630 loss:2.7331 nll:2.7235 dagness:0.00000 num_edges:4 alpha:0 rho:1 step:5|21190 num_lr_updates:1\n",
      "epoch:1640 loss:3.2126 nll:3.2031 dagness:0.00000 num_edges:4 alpha:0 rho:1 step:5|21350 num_lr_updates:1\n",
      "epoch:1650 loss:3.1584 nll:3.1439 dagness:0.50418 num_edges:6 alpha:0 rho:1 step:5|21510 num_lr_updates:1\n",
      "epoch:1660 loss:2.7933 nll:2.7839 dagness:0.00000 num_edges:4 alpha:0 rho:1 step:5|21670 num_lr_updates:1\n",
      "epoch:1670 loss:2.7608 nll:2.7513 dagness:0.00000 num_edges:4 alpha:0 rho:1 step:5|21830 num_lr_updates:1\n",
      "epoch:1680 loss:2.855 nll:2.8455 dagness:0.00000 num_edges:4 alpha:0 rho:1 step:5|21990 num_lr_updates:1\n",
      "epoch:1690 loss:3.0088 nll:2.9969 dagness:0.00000 num_edges:5 alpha:0 rho:1 step:5|22150 num_lr_updates:1\n",
      "epoch:1700 loss:3.1901 nll:3.1782 dagness:0.00000 num_edges:5 alpha:0 rho:1 step:5|22310 num_lr_updates:1\n",
      "epoch:1710 loss:2.8932 nll:2.8838 dagness:0.00000 num_edges:4 alpha:0 rho:1 step:5|22470 num_lr_updates:1\n",
      "epoch:1720 loss:3.0219 nll:3.0125 dagness:0.00000 num_edges:4 alpha:0 rho:1 step:5|22630 num_lr_updates:1\n",
      "epoch:1730 loss:2.9028 nll:2.8933 dagness:0.00000 num_edges:4 alpha:0 rho:1 step:5|22790 num_lr_updates:1\n",
      "epoch:1740 loss:3.0292 nll:3.0198 dagness:0.00000 num_edges:4 alpha:0 rho:1 step:5|22950 num_lr_updates:1\n",
      "epoch:1750 loss:2.7324 nll:2.7231 dagness:0.00000 num_edges:4 alpha:0 rho:1 step:5|23110 num_lr_updates:1\n",
      "epoch:1760 loss:3.0183 nll:3.004 dagness:1.08616 num_edges:6 alpha:0 rho:1 step:5|23270 num_lr_updates:1\n",
      "epoch:1770 loss:2.9613 nll:2.9494 dagness:0.00000 num_edges:5 alpha:0 rho:1 step:5|23430 num_lr_updates:1\n",
      "epoch:1780 loss:2.9175 nll:2.9082 dagness:0.00000 num_edges:4 alpha:0 rho:1 step:5|23590 num_lr_updates:1\n",
      "epoch:1790 loss:2.9395 nll:2.9302 dagness:0.00000 num_edges:4 alpha:0 rho:1 step:5|23750 num_lr_updates:1\n",
      "epoch:1800 loss:3.1597 nll:3.1479 dagness:0.00000 num_edges:5 alpha:0 rho:1 step:5|23910 num_lr_updates:1\n",
      "epoch:1810 loss:2.7693 nll:2.7599 dagness:0.00000 num_edges:4 alpha:0 rho:1 step:5|24070 num_lr_updates:1\n",
      "epoch:1820 loss:3.0055 nll:2.9962 dagness:0.00000 num_edges:4 alpha:0 rho:1 step:5|24230 num_lr_updates:1\n",
      "epoch:1830 loss:3.1362 nll:3.1269 dagness:0.00000 num_edges:4 alpha:0 rho:1 step:5|24390 num_lr_updates:1\n",
      "epoch:1840 loss:3.2303 nll:3.221 dagness:0.00000 num_edges:4 alpha:0 rho:1 step:5|24550 num_lr_updates:1\n",
      "epoch:1850 loss:2.8863 nll:2.877 dagness:0.00000 num_edges:4 alpha:0 rho:1 step:5|24710 num_lr_updates:1\n",
      "epoch:1860 loss:3.0215 nll:3.0122 dagness:0.00000 num_edges:4 alpha:0 rho:1 step:5|24870 num_lr_updates:1\n",
      "epoch:1870 loss:2.7807 nll:2.7714 dagness:0.00000 num_edges:4 alpha:0 rho:1 step:5|25030 num_lr_updates:1\n",
      "epoch:1880 loss:2.8826 nll:2.8707 dagness:0.00000 num_edges:5 alpha:0 rho:1 step:5|25190 num_lr_updates:1\n",
      "epoch:1890 loss:2.9366 nll:2.9247 dagness:0.00000 num_edges:5 alpha:0 rho:1 step:5|25350 num_lr_updates:1\n",
      "epoch:1900 loss:3.0072 nll:2.9978 dagness:0.00000 num_edges:4 alpha:0 rho:1 step:5|25510 num_lr_updates:1\n",
      "epoch:1910 loss:2.9394 nll:2.9276 dagness:0.00000 num_edges:5 alpha:0 rho:1 step:5|25670 num_lr_updates:1\n",
      "epoch:1920 loss:3.0141 nll:3.0049 dagness:0.00000 num_edges:4 alpha:0 rho:1 step:5|25830 num_lr_updates:1\n",
      "epoch:1930 loss:2.9477 nll:2.9384 dagness:0.00000 num_edges:4 alpha:0 rho:1 step:5|25990 num_lr_updates:1\n",
      "epoch:1940 loss:3.0061 nll:2.9968 dagness:0.00000 num_edges:4 alpha:0 rho:1 step:5|26150 num_lr_updates:1\n",
      "epoch:1950 loss:2.9182 nll:2.9089 dagness:0.00000 num_edges:4 alpha:0 rho:1 step:5|26310 num_lr_updates:1\n",
      "epoch:1960 loss:2.8371 nll:2.8279 dagness:0.00000 num_edges:4 alpha:0 rho:1 step:5|26470 num_lr_updates:1\n",
      "epoch:1970 loss:3.0612 nll:3.047 dagness:1.08616 num_edges:6 alpha:0 rho:1 step:5|26630 num_lr_updates:1\n",
      "epoch:1980 loss:2.7917 nll:2.7824 dagness:0.00000 num_edges:4 alpha:0 rho:1 step:5|26790 num_lr_updates:1\n",
      "epoch:1990 loss:2.8372 nll:2.8254 dagness:0.00000 num_edges:5 alpha:0 rho:1 step:5|26950 num_lr_updates:1\n"
     ]
    }
   ],
   "source": [
    "assert len(dataset_train.batch_size) == 1, \"Only 1D batch size is supported\"\n",
    "num_samples = len(dataset_train)\n",
    "for epoch in range(training_config.max_epoch):\n",
    "    for i, batch in enumerate(dataloader_train):\n",
    "        optimizer.zero_grad()\n",
    "        sem_distribution = sem_module()\n",
    "        sem, *_ = sem_distribution.relaxed_sample(\n",
    "            torch.Size([]), temperature=training_config.gumbel_temp\n",
    "        )  # soft sample\n",
    "\n",
    "        batch_log_prob = sem.log_prob(batch).mean()\n",
    "        sem_distribution_entropy = sem_distribution.entropy()\n",
    "        prior_term = prior.log_prob(sem.graph)\n",
    "        objective = (-sem_distribution_entropy - prior_term) / num_samples - batch_log_prob\n",
    "        constraint = calculate_dagness(sem.graph)\n",
    "\n",
    "        loss = auglag_loss(objective, constraint / num_samples)\n",
    "\n",
    "        loss.backward()\n",
    "        optimizer.step()\n",
    "        # update the Auglag parameters\n",
    "        scheduler.step(\n",
    "            optimizer=optimizer,\n",
    "            loss=auglag_loss,\n",
    "            loss_value=loss.item(),\n",
    "            lagrangian_penalty=constraint.item(),\n",
    "        )\n",
    "        # log metrics\n",
    "        if epoch % 10 == 0 and i == 0:\n",
    "            print(\n",
    "                f\"epoch:{epoch} loss:{loss.item():.5g} nll:{-batch_log_prob.detach().cpu().numpy():.5g} \"\n",
    "                f\"dagness:{constraint.item():.5f} num_edges:{(sem.graph > 0.0).sum()} \"\n",
    "                f\"alpha:{auglag_loss.alpha:.5g} rho:{auglag_loss.rho:.5g} \"\n",
    "                f\"step:{scheduler.outer_opt_counter}|{scheduler.step_counter} \"\n",
    "                f\"num_lr_updates:{scheduler.num_lr_updates}\"\n",
    "            )"
   ]
  },
  {
   "cell_type": "markdown",
   "metadata": {},
   "source": [
    "Download and display the true graph from the CSuite Dataset"
   ]
  },
  {
   "cell_type": "code",
   "execution_count": 12,
   "metadata": {},
   "outputs": [
    {
     "data": {
      "image/png": "[encoded data removed]",
      "text/plain": [
       "<Figure size 640x480 with 1 Axes>"
      ]
     },
     "metadata": {},
     "output_type": "display_data"
    }
   ],
   "source": [
    "true_adj_matrix = load_data(root_path, DataEnum.TRUE_ADJACENCY)\n",
    "\n",
    "true_graph = nx.from_numpy_matrix(true_adj_matrix.cpu().numpy(), create_using=nx.DiGraph)\n",
    "nx.draw_networkx(true_graph, pos=nx.planar_layout(true_graph), with_labels=True, arrows=True)"
   ]
  },
  {
   "cell_type": "markdown",
   "metadata": {},
   "source": [
    "Display the graph learned by DECI"
   ]
  },
  {
   "cell_type": "code",
   "execution_count": 13,
   "metadata": {},
   "outputs": [
    {
     "data": {
      "image/png": "[encoded data removed]",
      "text/plain": [
       "<Figure size 640x480 with 1 Axes>"
      ]
     },
     "metadata": {},
     "output_type": "display_data"
    }
   ],
   "source": [
    "vardist = adjacency_dist()\n",
    "graph = nx.from_numpy_matrix(vardist.mode.cpu().numpy(), create_using=nx.DiGraph)\n",
    "nx.draw_networkx(graph, pos=nx.planar_layout(true_graph), with_labels=True, arrows=True)"
   ]
  }
 ],
 "metadata": {
  "kernelspec": {
   "display_name": "Python 3 (ipykernel)",
   "language": "python",
   "name": "python3"
  },
  "language_info": {
   "codemirror_mode": {
    "name": "ipython",
    "version": 3
   },
   "file_extension": ".py",
   "mimetype": "text/x-python",
   "name": "python",
   "nbconvert_exporter": "python",
   "pygments_lexer": "ipython3",
   "version": "3.8.8"
  }
 },
 "nbformat": 4,
 "nbformat_minor": 2
}
